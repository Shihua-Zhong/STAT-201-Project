{
 "cells": [
  {
   "cell_type": "markdown",
   "id": "fe2f70e6-ddf5-4984-8655-4edfcd45ceb5",
   "metadata": {},
   "source": [
    "# Compare Usage of Bike Share Program Among Users"
   ]
  },
  {
   "cell_type": "markdown",
   "id": "2215a702-ccd1-4c64-b9e5-a2e1a98911fa",
   "metadata": {},
   "source": [
    "### Statistical Inference study on Weather Conditions Collected from a Bike Sharing Service"
   ]
  },
  {
   "cell_type": "markdown",
   "id": "1b882d4c-6a54-42c6-a6fa-29acdf253ce2",
   "metadata": {},
   "source": [
    "##### Authors: Alex Bastin, Amy Zhong, Naaimur Reza & Jeffrey Gao"
   ]
  },
  {
   "cell_type": "markdown",
   "id": "90646594-fa80-4553-8e19-9342a3dbea78",
   "metadata": {
    "tags": []
   },
   "source": [
    "### Introduction"
   ]
  },
  {
   "cell_type": "markdown",
   "id": "79faf6cb-3a03-4fe4-b00a-9d1107068f21",
   "metadata": {},
   "source": [
    "Bike sharing systems are a new transformational method of transportation wherein the whole process from membership, rental, and return has become automatic.\n",
    "\n",
    "These bikes bring an array of sensors and are able to collect an abundance of user usage data including weather data, like temperature and humidity; timing data, like day and time; and user data, like count of casual user daily usage. The dataset identified in this study is from a two-year study of the Capital Bikeshare system program in Washington, D.C. during 2011 and 2012 (Fanaee-T & Gama, 2013). The dataset contains 731 days of data wherein each has 17 variables. The objective of this analysis is to determine through empirical methods if “registered” users of the Capital Bikeshare program have higher rates of usage during the work week than “casual” users to a degree of statistical significance. We will quantify this usage with proportion mean as a location parameter and standard deviation as the scale parameter.\n",
    "\n",
    "For our analysis, two academic studies are deemed relevant. Kim (2018) found demand for bike rental usage is significantly more inelastic to heat on working days than non-working days. We believe it indicates this inelastic sub-population likely are commuters that rely on the service to arrive at work. In contrast, Hosford (2018) found that the implementation of a bike share program has little impact on increasing bikeshare program usage rates both among registered and casual users in the long-term."
   ]
  },
  {
   "cell_type": "markdown",
   "id": "c18030e4-65e8-4d3e-aea6-41bf3852c351",
   "metadata": {},
   "source": [
    "### Objective"
   ]
  },
  {
   "cell_type": "markdown",
   "id": "69c60d1d-310e-4a84-b664-8d00cda409f6",
   "metadata": {},
   "source": [
    "For this project, we find out if there is a significant difference in the proportions of casual bike rental for workday or holiday. We want to address this question by conducting a hypothesis test. The two following parameters are useful in answering our question. \n",
    "1. We can group by the workingday variable and calculate the proportions of casual bike rental for two groups.\n",
    "2. We can combine the weekday variable from Monday to Friday into one category and Saturday to Sunday into the other category to calculate the proportions of casual bike rental for two groups."
   ]
  },
  {
   "cell_type": "markdown",
   "id": "647acd4a-a8cc-43ea-9549-439b151d5175",
   "metadata": {},
   "source": [
    "### Preliminary Results"
   ]
  },
  {
   "cell_type": "code",
   "execution_count": 94,
   "id": "193a5b6c-04c1-4519-9090-0345c27dc5e7",
   "metadata": {},
   "outputs": [],
   "source": [
    "# First, we will load required packages\n",
    "library(cowplot)\n",
    "library(datateachr)\n",
    "library(digest)\n",
    "library(infer)\n",
    "library(repr)\n",
    "library(taxyvr)\n",
    "library(tidyverse)\n",
    "library(dplyr)\n",
    "library(datateachr)\n",
    "require(gridExtra)\n",
    "\n",
    "# Then, set the seed\n",
    "# set.seed(1)"
   ]
  },
  {
   "cell_type": "markdown",
   "id": "06e1ad1f-fa48-4d94-9a9b-c89fd796193d",
   "metadata": {},
   "source": [
    "#### I. loads data from the original source on the web"
   ]
  },
  {
   "cell_type": "code",
   "execution_count": 96,
   "id": "eadeb61a-b2c2-4e0e-b130-2f7652e60339",
   "metadata": {},
   "outputs": [],
   "source": [
    "# URL\n",
    "url <- \"https://archive.ics.uci.edu/ml/machine-learning-databases/00275/Bike-Sharing-Dataset.zip\"\n",
    "\n",
    "# Download the dataset from the web\n",
    "destfile <- \"data/localfile.zip\"\n",
    "download.file(url, destfile)\n",
    "\n",
    "# Unzip the file\n",
    "unzip(\"data/localfile.zip\", exdir = \"data/\")          "
   ]
  },
  {
   "cell_type": "markdown",
   "id": "9c5ebc7b-2707-4ac6-a605-12df1f38987a",
   "metadata": {},
   "source": [
    "#### II. Clean and wrangle data into a tidy format"
   ]
  },
  {
   "cell_type": "code",
   "execution_count": 108,
   "id": "34705809-b939-4097-9f59-5cbb84980d5f",
   "metadata": {},
   "outputs": [
    {
     "data": {
      "text/html": [
       "<table class=\"dataframe\">\n",
       "<caption>A data.frame: 6 × 17</caption>\n",
       "<thead>\n",
       "\t<tr><th></th><th scope=col>instant</th><th scope=col>dteday</th><th scope=col>season</th><th scope=col>yr</th><th scope=col>mnth</th><th scope=col>holiday</th><th scope=col>weekday</th><th scope=col>workingday</th><th scope=col>weathersit</th><th scope=col>temp</th><th scope=col>atemp</th><th scope=col>hum</th><th scope=col>windspeed</th><th scope=col>casual</th><th scope=col>registered</th><th scope=col>cnt</th><th scope=col>prop</th></tr>\n",
       "\t<tr><th></th><th scope=col>&lt;int&gt;</th><th scope=col>&lt;chr&gt;</th><th scope=col>&lt;int&gt;</th><th scope=col>&lt;int&gt;</th><th scope=col>&lt;int&gt;</th><th scope=col>&lt;int&gt;</th><th scope=col>&lt;int&gt;</th><th scope=col>&lt;fct&gt;</th><th scope=col>&lt;int&gt;</th><th scope=col>&lt;dbl&gt;</th><th scope=col>&lt;dbl&gt;</th><th scope=col>&lt;dbl&gt;</th><th scope=col>&lt;dbl&gt;</th><th scope=col>&lt;int&gt;</th><th scope=col>&lt;int&gt;</th><th scope=col>&lt;int&gt;</th><th scope=col>&lt;dbl&gt;</th></tr>\n",
       "</thead>\n",
       "<tbody>\n",
       "\t<tr><th scope=row>1</th><td>1</td><td>2011-01-01</td><td>1</td><td>0</td><td>1</td><td>0</td><td>6</td><td>no </td><td>2</td><td>0.344167</td><td>0.363625</td><td>0.805833</td><td>0.1604460</td><td>331</td><td> 654</td><td> 985</td><td>0.6639594</td></tr>\n",
       "\t<tr><th scope=row>2</th><td>2</td><td>2011-01-02</td><td>1</td><td>0</td><td>1</td><td>0</td><td>0</td><td>no </td><td>2</td><td>0.363478</td><td>0.353739</td><td>0.696087</td><td>0.2485390</td><td>131</td><td> 670</td><td> 801</td><td>0.8364544</td></tr>\n",
       "\t<tr><th scope=row>3</th><td>3</td><td>2011-01-03</td><td>1</td><td>0</td><td>1</td><td>0</td><td>1</td><td>yes</td><td>1</td><td>0.196364</td><td>0.189405</td><td>0.437273</td><td>0.2483090</td><td>120</td><td>1229</td><td>1349</td><td>0.9110452</td></tr>\n",
       "\t<tr><th scope=row>4</th><td>4</td><td>2011-01-04</td><td>1</td><td>0</td><td>1</td><td>0</td><td>2</td><td>yes</td><td>1</td><td>0.200000</td><td>0.212122</td><td>0.590435</td><td>0.1602960</td><td>108</td><td>1454</td><td>1562</td><td>0.9308579</td></tr>\n",
       "\t<tr><th scope=row>5</th><td>5</td><td>2011-01-05</td><td>1</td><td>0</td><td>1</td><td>0</td><td>3</td><td>yes</td><td>1</td><td>0.226957</td><td>0.229270</td><td>0.436957</td><td>0.1869000</td><td> 82</td><td>1518</td><td>1600</td><td>0.9487500</td></tr>\n",
       "\t<tr><th scope=row>6</th><td>6</td><td>2011-01-06</td><td>1</td><td>0</td><td>1</td><td>0</td><td>4</td><td>yes</td><td>1</td><td>0.204348</td><td>0.233209</td><td>0.518261</td><td>0.0895652</td><td> 88</td><td>1518</td><td>1606</td><td>0.9452055</td></tr>\n",
       "</tbody>\n",
       "</table>\n"
      ],
      "text/latex": [
       "A data.frame: 6 × 17\n",
       "\\begin{tabular}{r|lllllllllllllllll}\n",
       "  & instant & dteday & season & yr & mnth & holiday & weekday & workingday & weathersit & temp & atemp & hum & windspeed & casual & registered & cnt & prop\\\\\n",
       "  & <int> & <chr> & <int> & <int> & <int> & <int> & <int> & <fct> & <int> & <dbl> & <dbl> & <dbl> & <dbl> & <int> & <int> & <int> & <dbl>\\\\\n",
       "\\hline\n",
       "\t1 & 1 & 2011-01-01 & 1 & 0 & 1 & 0 & 6 & no  & 2 & 0.344167 & 0.363625 & 0.805833 & 0.1604460 & 331 &  654 &  985 & 0.6639594\\\\\n",
       "\t2 & 2 & 2011-01-02 & 1 & 0 & 1 & 0 & 0 & no  & 2 & 0.363478 & 0.353739 & 0.696087 & 0.2485390 & 131 &  670 &  801 & 0.8364544\\\\\n",
       "\t3 & 3 & 2011-01-03 & 1 & 0 & 1 & 0 & 1 & yes & 1 & 0.196364 & 0.189405 & 0.437273 & 0.2483090 & 120 & 1229 & 1349 & 0.9110452\\\\\n",
       "\t4 & 4 & 2011-01-04 & 1 & 0 & 1 & 0 & 2 & yes & 1 & 0.200000 & 0.212122 & 0.590435 & 0.1602960 & 108 & 1454 & 1562 & 0.9308579\\\\\n",
       "\t5 & 5 & 2011-01-05 & 1 & 0 & 1 & 0 & 3 & yes & 1 & 0.226957 & 0.229270 & 0.436957 & 0.1869000 &  82 & 1518 & 1600 & 0.9487500\\\\\n",
       "\t6 & 6 & 2011-01-06 & 1 & 0 & 1 & 0 & 4 & yes & 1 & 0.204348 & 0.233209 & 0.518261 & 0.0895652 &  88 & 1518 & 1606 & 0.9452055\\\\\n",
       "\\end{tabular}\n"
      ],
      "text/markdown": [
       "\n",
       "A data.frame: 6 × 17\n",
       "\n",
       "| <!--/--> | instant &lt;int&gt; | dteday &lt;chr&gt; | season &lt;int&gt; | yr &lt;int&gt; | mnth &lt;int&gt; | holiday &lt;int&gt; | weekday &lt;int&gt; | workingday &lt;fct&gt; | weathersit &lt;int&gt; | temp &lt;dbl&gt; | atemp &lt;dbl&gt; | hum &lt;dbl&gt; | windspeed &lt;dbl&gt; | casual &lt;int&gt; | registered &lt;int&gt; | cnt &lt;int&gt; | prop &lt;dbl&gt; |\n",
       "|---|---|---|---|---|---|---|---|---|---|---|---|---|---|---|---|---|---|\n",
       "| 1 | 1 | 2011-01-01 | 1 | 0 | 1 | 0 | 6 | no  | 2 | 0.344167 | 0.363625 | 0.805833 | 0.1604460 | 331 |  654 |  985 | 0.6639594 |\n",
       "| 2 | 2 | 2011-01-02 | 1 | 0 | 1 | 0 | 0 | no  | 2 | 0.363478 | 0.353739 | 0.696087 | 0.2485390 | 131 |  670 |  801 | 0.8364544 |\n",
       "| 3 | 3 | 2011-01-03 | 1 | 0 | 1 | 0 | 1 | yes | 1 | 0.196364 | 0.189405 | 0.437273 | 0.2483090 | 120 | 1229 | 1349 | 0.9110452 |\n",
       "| 4 | 4 | 2011-01-04 | 1 | 0 | 1 | 0 | 2 | yes | 1 | 0.200000 | 0.212122 | 0.590435 | 0.1602960 | 108 | 1454 | 1562 | 0.9308579 |\n",
       "| 5 | 5 | 2011-01-05 | 1 | 0 | 1 | 0 | 3 | yes | 1 | 0.226957 | 0.229270 | 0.436957 | 0.1869000 |  82 | 1518 | 1600 | 0.9487500 |\n",
       "| 6 | 6 | 2011-01-06 | 1 | 0 | 1 | 0 | 4 | yes | 1 | 0.204348 | 0.233209 | 0.518261 | 0.0895652 |  88 | 1518 | 1606 | 0.9452055 |\n",
       "\n"
      ],
      "text/plain": [
       "  instant dteday     season yr mnth holiday weekday workingday weathersit\n",
       "1 1       2011-01-01 1      0  1    0       6       no         2         \n",
       "2 2       2011-01-02 1      0  1    0       0       no         2         \n",
       "3 3       2011-01-03 1      0  1    0       1       yes        1         \n",
       "4 4       2011-01-04 1      0  1    0       2       yes        1         \n",
       "5 5       2011-01-05 1      0  1    0       3       yes        1         \n",
       "6 6       2011-01-06 1      0  1    0       4       yes        1         \n",
       "  temp     atemp    hum      windspeed casual registered cnt  prop     \n",
       "1 0.344167 0.363625 0.805833 0.1604460 331     654        985 0.6639594\n",
       "2 0.363478 0.353739 0.696087 0.2485390 131     670        801 0.8364544\n",
       "3 0.196364 0.189405 0.437273 0.2483090 120    1229       1349 0.9110452\n",
       "4 0.200000 0.212122 0.590435 0.1602960 108    1454       1562 0.9308579\n",
       "5 0.226957 0.229270 0.436957 0.1869000  82    1518       1600 0.9487500\n",
       "6 0.204348 0.233209 0.518261 0.0895652  88    1518       1606 0.9452055"
      ]
     },
     "metadata": {},
     "output_type": "display_data"
    }
   ],
   "source": [
    "# Convert from csv to a dataframe\n",
    "weather_data <- read.csv(\"data/day.csv\")\n",
    "\n",
    "# Clean up and wrangle\n",
    "weather_data$workingday <- as_factor(weather_data$workingday)\n",
    "levels(weather_data$workingday) <- c(\"no\",\"yes\")\n",
    "weather_mutated_data <- weather_data %>%\n",
    "mutate(prop = registered/cnt)\n",
    "head(weather_mutated_data)\n"
   ]
  },
  {
   "cell_type": "markdown",
   "id": "7caabccc-973c-4eac-aadb-18aa81fdcaff",
   "metadata": {},
   "source": [
    "#### IV. Compute estimates"
   ]
  },
  {
   "cell_type": "code",
   "execution_count": 109,
   "id": "659e21e5-120e-419e-b4d6-142b6d047908",
   "metadata": {},
   "outputs": [
    {
     "data": {
      "text/html": [
       "<table class=\"dataframe\">\n",
       "<caption>A tibble: 2 × 2</caption>\n",
       "<thead>\n",
       "\t<tr><th scope=col>workingday</th><th scope=col>mean</th></tr>\n",
       "\t<tr><th scope=col>&lt;fct&gt;</th><th scope=col>&lt;dbl&gt;</th></tr>\n",
       "</thead>\n",
       "<tbody>\n",
       "\t<tr><td>no </td><td>0.7094981</td></tr>\n",
       "\t<tr><td>yes</td><td>0.8774882</td></tr>\n",
       "</tbody>\n",
       "</table>\n"
      ],
      "text/latex": [
       "A tibble: 2 × 2\n",
       "\\begin{tabular}{ll}\n",
       " workingday & mean\\\\\n",
       " <fct> & <dbl>\\\\\n",
       "\\hline\n",
       "\t no  & 0.7094981\\\\\n",
       "\t yes & 0.8774882\\\\\n",
       "\\end{tabular}\n"
      ],
      "text/markdown": [
       "\n",
       "A tibble: 2 × 2\n",
       "\n",
       "| workingday &lt;fct&gt; | mean &lt;dbl&gt; |\n",
       "|---|---|\n",
       "| no  | 0.7094981 |\n",
       "| yes | 0.8774882 |\n",
       "\n"
      ],
      "text/plain": [
       "  workingday mean     \n",
       "1 no         0.7094981\n",
       "2 yes        0.8774882"
      ]
     },
     "metadata": {},
     "output_type": "display_data"
    }
   ],
   "source": [
    "# Filter and select\n",
    "registered_prop <- weather_mutated_data %>%\n",
    "select(workingday,prop)\n",
    "\n",
    "sample_proportion <- registered_prop %>%\n",
    "        group_by(workingday)%>%\n",
    "        summarize(mean = mean(prop))\n",
    "\n",
    "sample_proportion"
   ]
  },
  {
   "cell_type": "markdown",
   "id": "4e809fb2-ef95-401c-81b3-9a88ad5ea431",
   "metadata": {},
   "source": [
    "#### V. Plots"
   ]
  },
  {
   "cell_type": "code",
   "execution_count": 110,
   "id": "06a94764-4746-422b-8548-373f0874d196",
   "metadata": {},
   "outputs": [
    {
     "data": {
      "image/png": "[encoded data removed]",
      "text/plain": [
       "plot without title"
      ]
     },
     "metadata": {
      "image/png": {
       "height": 480,
       "width": 1200
      }
     },
     "output_type": "display_data"
    }
   ],
   "source": [
    "options(repr.plot.width = 20, repr.plot.height = 8)\n",
    "\n",
    "# Distribution of proportion of raw data\n",
    "\n",
    "boxplots <- \n",
    "    weather_mutated_data %>%  \n",
    "    ggplot(aes(x = workingday, y = prop)) + \n",
    "    geom_boxplot() + \n",
    "    xlab(\"Working Day\") +\n",
    "    ylab(\"Proportion of Registered User\") +\n",
    "ggtitle(\"Boxplots of Proportion of Registered User\")+\n",
    "theme(plot.title = element_text(size = 25, face = \"bold\"), axis.title=element_text(size=20), text = element_text(size=25))\n",
    "\n",
    "\n",
    "boxplots"
   ]
  },
  {
   "cell_type": "markdown",
   "id": "bdcaa5e5-fb3f-4aa9-a3c0-25aac4824012",
   "metadata": {},
   "source": [
    "### Methods: Plan"
   ]
  },
  {
   "cell_type": "markdown",
   "id": "1e20ba7e-7999-490e-bd30-178174b7dd06",
   "metadata": {},
   "source": [
    "Throughout our analysis we hold the null hypothesis that registered and casual users have identical usage rates independent of the day of the week. Based on aforementioned academic research and our intuition as researchers, we set the alternative hypothesis that the proportion of registered users that use the bike share system is higher than casual users during the work week to a significant degree.\n",
    "\n",
    "The sample size used for our plots and estimates was large enough to produce close to accurate results. The use of bootstrap sampling has made it easier to derive the estimates for the proportions without having to use the entire sample or having the need to collect more data. Even though the results produced are good estimates they are not strong enough to prove or provide anything substantial. Calculating the 90% confidence interval for the average proportions of registered users will provide a range within which there would be a 90% chance of having the true proportions. We expect to find the two proportions are significantly different from each other. We expect to disprove the null hypothesis and accept the alternate hypothesis.\n",
    "\n",
    "##### Expectation\n",
    "\n",
    "We expect to find estimates for the proportion of each weather condition in spring and winter and their respective 90% confidence intervals. Conduct hypothesis tests to find out if there are significant differences between the proportions of weather conditions for each season. We then further develop the trust of our report by offering measures of statistical significance, P-values.\n",
    "\n",
    "##### Impact\n",
    "\n",
    "This analysis could prove beneficial for marketing departments to better define target markets and allocate marketing efforts, or to better inform the placement of new automated bike racks to optimize for registered users.\n",
    "\n",
    "Future question that might come up due to our study include: \n",
    "1. Are there any other factors that draw the interest of the registered user?   \n",
    "2. Does weather affect the consumer behaviour of the registered user?\n",
    "3. What factors draw the interest of casual users?"
   ]
  },
  {
   "cell_type": "markdown",
   "id": "b6c3ce8b-79a4-493e-b505-02b994d6ccc2",
   "metadata": {},
   "source": [
    "### References"
   ]
  },
  {
   "cell_type": "markdown",
   "id": "0d42c1bc-3a6c-459a-be06-8d20b948c2e0",
   "metadata": {},
   "source": [
    "Hadi Fanaee-T, Laboratory of Artificial Intelligence and Decision Support (LIAAD), University of Porto \n",
    "\n",
    "<em>\"Using weather forecast to forecast whether bikes are used\"<em> by Jan Wessel\n",
    "\n",
    "<em>\"The AI forecaster: Machine learning takes on weather prediction\"<em> by Aaron Sidder, American Geophysical Union\n",
    "\n",
    "<em>REFERENCES Kim, K. (2018, January). Investigation on the effects of weather and calendar events on bike-sharing according to the trip patterns of bike rentals of stations. ScienceDirect. Retrieved July 25, 2022, from https://doi.org/10.1016/j.jtrangeo.2018.01.001\n",
    "\n",
    "Hosford, K. (2018, December). Evaluation of the impact of a public bicycle share program on population bicycling in Vancouver, BC. ScienceDirect. Retrieved July 26, 2022, from https://doi.org/10.1016/j.pmedr.2018.09.014\n",
    "\n",
    "Fanaee-T, H., & Gama, J. (2013, November 26). Event labeling combining ensemble detectors and background knowledge - progress in Artificial Intelligence. SpringerLink. Retrieved July 25, 2022, from https://link.springer.com/article/10.1007/s13748-013-0040-3"
   ]
  },
  {
   "cell_type": "code",
   "execution_count": null,
   "id": "47cf9fa7-345d-4b8f-bc18-a5e493092d6d",
   "metadata": {},
   "outputs": [],
   "source": []
  }
 ],
 "metadata": {
  "kernelspec": {
   "display_name": "R",
   "language": "R",
   "name": "ir"
  },
  "language_info": {
   "codemirror_mode": "r",
   "file_extension": ".r",
   "mimetype": "text/x-r-source",
   "name": "R",
   "pygments_lexer": "r",
   "version": "4.0.5"
  }
 },
 "nbformat": 4,
 "nbformat_minor": 5
}
