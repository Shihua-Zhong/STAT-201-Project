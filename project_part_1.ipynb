{
 "cells": [
  {
   "cell_type": "markdown",
   "id": "fe2f70e6-ddf5-4984-8655-4edfcd45ceb5",
   "metadata": {},
   "source": [
    "# Compare Usage of Bike Share Program Among Users"
   ]
  },
  {
   "cell_type": "markdown",
   "id": "2215a702-ccd1-4c64-b9e5-a2e1a98911fa",
   "metadata": {},
   "source": [
    "### Statistical Inference study on Weather Conditions Collected from a Bike Sharing Service"
   ]
  },
  {
   "cell_type": "markdown",
   "id": "1b882d4c-6a54-42c6-a6fa-29acdf253ce2",
   "metadata": {},
   "source": [
    "##### Authors: Alex Bastin, Amy Zhong, Naaimur Reza & Jeffrey Gao"
   ]
  },
  {
   "cell_type": "markdown",
   "id": "90646594-fa80-4553-8e19-9342a3dbea78",
   "metadata": {
    "tags": []
   },
   "source": [
    "### Introduction"
   ]
  },
  {
   "cell_type": "markdown",
   "id": "79faf6cb-3a03-4fe4-b00a-9d1107068f21",
   "metadata": {},
   "source": [
    "Bike sharing systems are a new transformational method of transportation wherein the whole process from membership, rental, and return has become automatic.\n",
    "\n",
    "These bikes bring an array of sensors and are able to collect an abundance of user usage data including weather data, like temperature and humidity; timing data, like day and time; and user data, like count of casual user daily usage. The dataset identified in this study is from a two-year study of the Capital Bikeshare system program in Washington, D.C. during 2011 and 2012 (Fanaee-T & Gama, 2013). The dataset contains 731 days of data wherein each has 17 variables. The objective of this analysis is to determine through empirical methods if “registered” users of the Capital Bikeshare program have higher rates of usage during the work week than “casual” users to a degree of statistical significance. We will quantify this usage with proportion mean as a location parameter and standard deviation as the scale parameter.\n",
    "\n",
    "For our analysis, two academic studies are deemed relevant. Kim (2018) found demand for bike rental usage is significantly more inelastic to heat on working days than non-working days. We believe it indicates this inelastic sub-population likely are commuters that rely on the service to arrive at work. In contrast, Hosford (2018) found that the implementation of a bike share program has little impact on increasing bikeshare program usage rates both among registered and casual users in the long-term."
   ]
  },
  {
   "cell_type": "markdown",
   "id": "c18030e4-65e8-4d3e-aea6-41bf3852c351",
   "metadata": {},
   "source": [
    "### Objective"
   ]
  },
  {
   "cell_type": "markdown",
   "id": "69c60d1d-310e-4a84-b664-8d00cda409f6",
   "metadata": {},
   "source": [
    "For this project, we find out if there is a significant difference in the proportions of registered bike rental for workday or holiday. We want to address this question by conducting a hypothesis test. The two following parameters are useful in answering our question. \n",
    "1. We can group by the workingday variable and calculate the proportions of casual bike rental for two groups.\n",
    "2. We can combine the weekday variable from Monday to Friday into one category and Saturday to Sunday into the other category to calculate the proportions of casual bike rental for two groups."
   ]
  },
  {
   "cell_type": "markdown",
   "id": "647acd4a-a8cc-43ea-9549-439b151d5175",
   "metadata": {},
   "source": [
    "### Preliminary Results"
   ]
  },
  {
   "cell_type": "code",
   "execution_count": 1,
   "id": "193a5b6c-04c1-4519-9090-0345c27dc5e7",
   "metadata": {},
   "outputs": [
    {
     "name": "stderr",
     "output_type": "stream",
     "text": [
      "── \u001b[1mAttaching packages\u001b[22m ─────────────────────────────────────── tidyverse 1.3.0 ──\n",
      "\n",
      "\u001b[32m✔\u001b[39m \u001b[34mggplot2\u001b[39m 3.3.6     \u001b[32m✔\u001b[39m \u001b[34mpurrr  \u001b[39m 0.3.4\n",
      "\u001b[32m✔\u001b[39m \u001b[34mtibble \u001b[39m 3.1.7     \u001b[32m✔\u001b[39m \u001b[34mdplyr  \u001b[39m 1.0.9\n",
      "\u001b[32m✔\u001b[39m \u001b[34mtidyr  \u001b[39m 1.2.0     \u001b[32m✔\u001b[39m \u001b[34mstringr\u001b[39m 1.4.0\n",
      "\u001b[32m✔\u001b[39m \u001b[34mreadr  \u001b[39m 2.1.2     \u001b[32m✔\u001b[39m \u001b[34mforcats\u001b[39m 0.5.1\n",
      "\n",
      "── \u001b[1mConflicts\u001b[22m ────────────────────────────────────────── tidyverse_conflicts() ──\n",
      "\u001b[31m✖\u001b[39m \u001b[34mdplyr\u001b[39m::\u001b[32mfilter()\u001b[39m masks \u001b[34mstats\u001b[39m::filter()\n",
      "\u001b[31m✖\u001b[39m \u001b[34mdplyr\u001b[39m::\u001b[32mlag()\u001b[39m    masks \u001b[34mstats\u001b[39m::lag()\n",
      "\n",
      "Loading required package: gridExtra\n",
      "\n",
      "\n",
      "Attaching package: ‘gridExtra’\n",
      "\n",
      "\n",
      "The following object is masked from ‘package:dplyr’:\n",
      "\n",
      "    combine\n",
      "\n",
      "\n"
     ]
    }
   ],
   "source": [
    "# First, we will load required packages\n",
    "library(cowplot)\n",
    "library(datateachr)\n",
    "library(digest)\n",
    "library(infer)\n",
    "library(repr)\n",
    "library(taxyvr)\n",
    "library(tidyverse)\n",
    "library(dplyr)\n",
    "library(broom)\n",
    "library(datateachr)\n",
    "require(gridExtra)\n",
    "\n",
    "\n",
    "# Then, set the seed\n",
    "# set.seed(1)"
   ]
  },
  {
   "cell_type": "markdown",
   "id": "06e1ad1f-fa48-4d94-9a9b-c89fd796193d",
   "metadata": {},
   "source": [
    "#### I. loads data from the original source on the web"
   ]
  },
  {
   "cell_type": "code",
   "execution_count": 2,
   "id": "eadeb61a-b2c2-4e0e-b130-2f7652e60339",
   "metadata": {},
   "outputs": [],
   "source": [
    "# URL\n",
    "url <- \"https://archive.ics.uci.edu/ml/machine-learning-databases/00275/Bike-Sharing-Dataset.zip\"\n",
    "\n",
    "# Download the dataset from the web\n",
    "destfile <- \"data/localfile.zip\"\n",
    "download.file(url, destfile)\n",
    "\n",
    "# Unzip the file\n",
    "unzip(\"data/localfile.zip\", exdir = \"data/\")          "
   ]
  },
  {
   "cell_type": "markdown",
   "id": "9c5ebc7b-2707-4ac6-a605-12df1f38987a",
   "metadata": {},
   "source": [
    "#### II. Clean and wrangle data into a tidy format"
   ]
  },
  {
   "cell_type": "code",
   "execution_count": 33,
   "id": "34705809-b939-4097-9f59-5cbb84980d5f",
   "metadata": {},
   "outputs": [
    {
     "data": {
      "text/html": [
       "<table class=\"dataframe\">\n",
       "<caption>A data.frame: 6 × 17</caption>\n",
       "<thead>\n",
       "\t<tr><th></th><th scope=col>instant</th><th scope=col>dteday</th><th scope=col>season</th><th scope=col>yr</th><th scope=col>mnth</th><th scope=col>holiday</th><th scope=col>weekday</th><th scope=col>workingday</th><th scope=col>weathersit</th><th scope=col>temp</th><th scope=col>atemp</th><th scope=col>hum</th><th scope=col>windspeed</th><th scope=col>casual</th><th scope=col>registered</th><th scope=col>cnt</th><th scope=col>prop</th></tr>\n",
       "\t<tr><th></th><th scope=col>&lt;int&gt;</th><th scope=col>&lt;chr&gt;</th><th scope=col>&lt;fct&gt;</th><th scope=col>&lt;int&gt;</th><th scope=col>&lt;int&gt;</th><th scope=col>&lt;int&gt;</th><th scope=col>&lt;int&gt;</th><th scope=col>&lt;fct&gt;</th><th scope=col>&lt;int&gt;</th><th scope=col>&lt;dbl&gt;</th><th scope=col>&lt;dbl&gt;</th><th scope=col>&lt;dbl&gt;</th><th scope=col>&lt;dbl&gt;</th><th scope=col>&lt;int&gt;</th><th scope=col>&lt;int&gt;</th><th scope=col>&lt;int&gt;</th><th scope=col>&lt;dbl&gt;</th></tr>\n",
       "</thead>\n",
       "<tbody>\n",
       "\t<tr><th scope=row>1</th><td>1</td><td>2011-01-01</td><td>Winter</td><td>0</td><td>1</td><td>0</td><td>6</td><td>no </td><td>2</td><td>0.344167</td><td>0.363625</td><td>0.805833</td><td>0.1604460</td><td>331</td><td> 654</td><td> 985</td><td>0.6639594</td></tr>\n",
       "\t<tr><th scope=row>2</th><td>2</td><td>2011-01-02</td><td>Winter</td><td>0</td><td>1</td><td>0</td><td>0</td><td>no </td><td>2</td><td>0.363478</td><td>0.353739</td><td>0.696087</td><td>0.2485390</td><td>131</td><td> 670</td><td> 801</td><td>0.8364544</td></tr>\n",
       "\t<tr><th scope=row>3</th><td>3</td><td>2011-01-03</td><td>Winter</td><td>0</td><td>1</td><td>0</td><td>1</td><td>yes</td><td>1</td><td>0.196364</td><td>0.189405</td><td>0.437273</td><td>0.2483090</td><td>120</td><td>1229</td><td>1349</td><td>0.9110452</td></tr>\n",
       "\t<tr><th scope=row>4</th><td>4</td><td>2011-01-04</td><td>Winter</td><td>0</td><td>1</td><td>0</td><td>2</td><td>yes</td><td>1</td><td>0.200000</td><td>0.212122</td><td>0.590435</td><td>0.1602960</td><td>108</td><td>1454</td><td>1562</td><td>0.9308579</td></tr>\n",
       "\t<tr><th scope=row>5</th><td>5</td><td>2011-01-05</td><td>Winter</td><td>0</td><td>1</td><td>0</td><td>3</td><td>yes</td><td>1</td><td>0.226957</td><td>0.229270</td><td>0.436957</td><td>0.1869000</td><td> 82</td><td>1518</td><td>1600</td><td>0.9487500</td></tr>\n",
       "\t<tr><th scope=row>6</th><td>6</td><td>2011-01-06</td><td>Winter</td><td>0</td><td>1</td><td>0</td><td>4</td><td>yes</td><td>1</td><td>0.204348</td><td>0.233209</td><td>0.518261</td><td>0.0895652</td><td> 88</td><td>1518</td><td>1606</td><td>0.9452055</td></tr>\n",
       "</tbody>\n",
       "</table>\n"
      ],
      "text/latex": [
       "A data.frame: 6 × 17\n",
       "\\begin{tabular}{r|lllllllllllllllll}\n",
       "  & instant & dteday & season & yr & mnth & holiday & weekday & workingday & weathersit & temp & atemp & hum & windspeed & casual & registered & cnt & prop\\\\\n",
       "  & <int> & <chr> & <fct> & <int> & <int> & <int> & <int> & <fct> & <int> & <dbl> & <dbl> & <dbl> & <dbl> & <int> & <int> & <int> & <dbl>\\\\\n",
       "\\hline\n",
       "\t1 & 1 & 2011-01-01 & Winter & 0 & 1 & 0 & 6 & no  & 2 & 0.344167 & 0.363625 & 0.805833 & 0.1604460 & 331 &  654 &  985 & 0.6639594\\\\\n",
       "\t2 & 2 & 2011-01-02 & Winter & 0 & 1 & 0 & 0 & no  & 2 & 0.363478 & 0.353739 & 0.696087 & 0.2485390 & 131 &  670 &  801 & 0.8364544\\\\\n",
       "\t3 & 3 & 2011-01-03 & Winter & 0 & 1 & 0 & 1 & yes & 1 & 0.196364 & 0.189405 & 0.437273 & 0.2483090 & 120 & 1229 & 1349 & 0.9110452\\\\\n",
       "\t4 & 4 & 2011-01-04 & Winter & 0 & 1 & 0 & 2 & yes & 1 & 0.200000 & 0.212122 & 0.590435 & 0.1602960 & 108 & 1454 & 1562 & 0.9308579\\\\\n",
       "\t5 & 5 & 2011-01-05 & Winter & 0 & 1 & 0 & 3 & yes & 1 & 0.226957 & 0.229270 & 0.436957 & 0.1869000 &  82 & 1518 & 1600 & 0.9487500\\\\\n",
       "\t6 & 6 & 2011-01-06 & Winter & 0 & 1 & 0 & 4 & yes & 1 & 0.204348 & 0.233209 & 0.518261 & 0.0895652 &  88 & 1518 & 1606 & 0.9452055\\\\\n",
       "\\end{tabular}\n"
      ],
      "text/markdown": [
       "\n",
       "A data.frame: 6 × 17\n",
       "\n",
       "| <!--/--> | instant &lt;int&gt; | dteday &lt;chr&gt; | season &lt;fct&gt; | yr &lt;int&gt; | mnth &lt;int&gt; | holiday &lt;int&gt; | weekday &lt;int&gt; | workingday &lt;fct&gt; | weathersit &lt;int&gt; | temp &lt;dbl&gt; | atemp &lt;dbl&gt; | hum &lt;dbl&gt; | windspeed &lt;dbl&gt; | casual &lt;int&gt; | registered &lt;int&gt; | cnt &lt;int&gt; | prop &lt;dbl&gt; |\n",
       "|---|---|---|---|---|---|---|---|---|---|---|---|---|---|---|---|---|---|\n",
       "| 1 | 1 | 2011-01-01 | Winter | 0 | 1 | 0 | 6 | no  | 2 | 0.344167 | 0.363625 | 0.805833 | 0.1604460 | 331 |  654 |  985 | 0.6639594 |\n",
       "| 2 | 2 | 2011-01-02 | Winter | 0 | 1 | 0 | 0 | no  | 2 | 0.363478 | 0.353739 | 0.696087 | 0.2485390 | 131 |  670 |  801 | 0.8364544 |\n",
       "| 3 | 3 | 2011-01-03 | Winter | 0 | 1 | 0 | 1 | yes | 1 | 0.196364 | 0.189405 | 0.437273 | 0.2483090 | 120 | 1229 | 1349 | 0.9110452 |\n",
       "| 4 | 4 | 2011-01-04 | Winter | 0 | 1 | 0 | 2 | yes | 1 | 0.200000 | 0.212122 | 0.590435 | 0.1602960 | 108 | 1454 | 1562 | 0.9308579 |\n",
       "| 5 | 5 | 2011-01-05 | Winter | 0 | 1 | 0 | 3 | yes | 1 | 0.226957 | 0.229270 | 0.436957 | 0.1869000 |  82 | 1518 | 1600 | 0.9487500 |\n",
       "| 6 | 6 | 2011-01-06 | Winter | 0 | 1 | 0 | 4 | yes | 1 | 0.204348 | 0.233209 | 0.518261 | 0.0895652 |  88 | 1518 | 1606 | 0.9452055 |\n",
       "\n"
      ],
      "text/plain": [
       "  instant dteday     season yr mnth holiday weekday workingday weathersit\n",
       "1 1       2011-01-01 Winter 0  1    0       6       no         2         \n",
       "2 2       2011-01-02 Winter 0  1    0       0       no         2         \n",
       "3 3       2011-01-03 Winter 0  1    0       1       yes        1         \n",
       "4 4       2011-01-04 Winter 0  1    0       2       yes        1         \n",
       "5 5       2011-01-05 Winter 0  1    0       3       yes        1         \n",
       "6 6       2011-01-06 Winter 0  1    0       4       yes        1         \n",
       "  temp     atemp    hum      windspeed casual registered cnt  prop     \n",
       "1 0.344167 0.363625 0.805833 0.1604460 331     654        985 0.6639594\n",
       "2 0.363478 0.353739 0.696087 0.2485390 131     670        801 0.8364544\n",
       "3 0.196364 0.189405 0.437273 0.2483090 120    1229       1349 0.9110452\n",
       "4 0.200000 0.212122 0.590435 0.1602960 108    1454       1562 0.9308579\n",
       "5 0.226957 0.229270 0.436957 0.1869000  82    1518       1600 0.9487500\n",
       "6 0.204348 0.233209 0.518261 0.0895652  88    1518       1606 0.9452055"
      ]
     },
     "metadata": {},
     "output_type": "display_data"
    }
   ],
   "source": [
    "# Convert from csv to a dataframe\n",
    "weather_data <- read.csv(\"data/day.csv\")\n",
    "\n",
    "# Clean up and wrangle\n",
    "weather_data$workingday <- as_factor(weather_data$workingday)\n",
    "weather_data$season <- as_factor(weather_data$season)\n",
    "levels(weather_data$season) <- c(\"Winter\",\"Spring\",\"Summer\",\"Fall\")\n",
    "levels(weather_data$workingday) <- c(\"no\",\"yes\")\n",
    "weather_mutated_data <- weather_data %>%\n",
    "mutate(prop = registered/cnt)\n",
    "head(weather_mutated_data)\n"
   ]
  },
  {
   "cell_type": "markdown",
   "id": "5212d6e1-efe0-442a-b1fd-60b7610a7a05",
   "metadata": {},
   "source": [
    "#### IV. Compute estimates"
   ]
  },
  {
   "cell_type": "markdown",
   "id": "f1944493-0329-433d-a66f-a3af3ffbbfa5",
   "metadata": {},
   "source": [
    "We are interested in the proportions of registered bike rental in winter and summer."
   ]
  },
  {
   "cell_type": "code",
   "execution_count": 76,
   "id": "d2377546-be96-4987-a78c-54ba17193c6e",
   "metadata": {},
   "outputs": [
    {
     "data": {
      "text/html": [
       "<table class=\"dataframe\">\n",
       "<caption>A data.frame: 6 × 3</caption>\n",
       "<thead>\n",
       "\t<tr><th></th><th scope=col>workingday</th><th scope=col>prop</th><th scope=col>season</th></tr>\n",
       "\t<tr><th></th><th scope=col>&lt;fct&gt;</th><th scope=col>&lt;dbl&gt;</th><th scope=col>&lt;fct&gt;</th></tr>\n",
       "</thead>\n",
       "<tbody>\n",
       "\t<tr><th scope=row>1</th><td>no </td><td>0.6639594</td><td>Winter</td></tr>\n",
       "\t<tr><th scope=row>2</th><td>no </td><td>0.8364544</td><td>Winter</td></tr>\n",
       "\t<tr><th scope=row>3</th><td>yes</td><td>0.9110452</td><td>Winter</td></tr>\n",
       "\t<tr><th scope=row>4</th><td>yes</td><td>0.9308579</td><td>Winter</td></tr>\n",
       "\t<tr><th scope=row>5</th><td>yes</td><td>0.9487500</td><td>Winter</td></tr>\n",
       "\t<tr><th scope=row>6</th><td>yes</td><td>0.9452055</td><td>Winter</td></tr>\n",
       "</tbody>\n",
       "</table>\n"
      ],
      "text/latex": [
       "A data.frame: 6 × 3\n",
       "\\begin{tabular}{r|lll}\n",
       "  & workingday & prop & season\\\\\n",
       "  & <fct> & <dbl> & <fct>\\\\\n",
       "\\hline\n",
       "\t1 & no  & 0.6639594 & Winter\\\\\n",
       "\t2 & no  & 0.8364544 & Winter\\\\\n",
       "\t3 & yes & 0.9110452 & Winter\\\\\n",
       "\t4 & yes & 0.9308579 & Winter\\\\\n",
       "\t5 & yes & 0.9487500 & Winter\\\\\n",
       "\t6 & yes & 0.9452055 & Winter\\\\\n",
       "\\end{tabular}\n"
      ],
      "text/markdown": [
       "\n",
       "A data.frame: 6 × 3\n",
       "\n",
       "| <!--/--> | workingday &lt;fct&gt; | prop &lt;dbl&gt; | season &lt;fct&gt; |\n",
       "|---|---|---|---|\n",
       "| 1 | no  | 0.6639594 | Winter |\n",
       "| 2 | no  | 0.8364544 | Winter |\n",
       "| 3 | yes | 0.9110452 | Winter |\n",
       "| 4 | yes | 0.9308579 | Winter |\n",
       "| 5 | yes | 0.9487500 | Winter |\n",
       "| 6 | yes | 0.9452055 | Winter |\n",
       "\n"
      ],
      "text/plain": [
       "  workingday prop      season\n",
       "1 no         0.6639594 Winter\n",
       "2 no         0.8364544 Winter\n",
       "3 yes        0.9110452 Winter\n",
       "4 yes        0.9308579 Winter\n",
       "5 yes        0.9487500 Winter\n",
       "6 yes        0.9452055 Winter"
      ]
     },
     "metadata": {},
     "output_type": "display_data"
    },
    {
     "data": {
      "text/html": [
       "<table class=\"dataframe\">\n",
       "<caption>A tibble: 1 × 7</caption>\n",
       "<thead>\n",
       "\t<tr><th scope=col>n_no</th><th scope=col>n_yes</th><th scope=col>sd_no</th><th scope=col>sd_yes</th><th scope=col>mean_no</th><th scope=col>mean_yes</th><th scope=col>mean_diff</th></tr>\n",
       "\t<tr><th scope=col>&lt;int&gt;</th><th scope=col>&lt;int&gt;</th><th scope=col>&lt;dbl&gt;</th><th scope=col>&lt;dbl&gt;</th><th scope=col>&lt;dbl&gt;</th><th scope=col>&lt;dbl&gt;</th><th scope=col>&lt;dbl&gt;</th></tr>\n",
       "</thead>\n",
       "<tbody>\n",
       "\t<tr><td>61</td><td>120</td><td>0.1083181</td><td>0.04706721</td><td>0.7871169</td><td>0.9219079</td><td>0.134791</td></tr>\n",
       "</tbody>\n",
       "</table>\n"
      ],
      "text/latex": [
       "A tibble: 1 × 7\n",
       "\\begin{tabular}{lllllll}\n",
       " n\\_no & n\\_yes & sd\\_no & sd\\_yes & mean\\_no & mean\\_yes & mean\\_diff\\\\\n",
       " <int> & <int> & <dbl> & <dbl> & <dbl> & <dbl> & <dbl>\\\\\n",
       "\\hline\n",
       "\t 61 & 120 & 0.1083181 & 0.04706721 & 0.7871169 & 0.9219079 & 0.134791\\\\\n",
       "\\end{tabular}\n"
      ],
      "text/markdown": [
       "\n",
       "A tibble: 1 × 7\n",
       "\n",
       "| n_no &lt;int&gt; | n_yes &lt;int&gt; | sd_no &lt;dbl&gt; | sd_yes &lt;dbl&gt; | mean_no &lt;dbl&gt; | mean_yes &lt;dbl&gt; | mean_diff &lt;dbl&gt; |\n",
       "|---|---|---|---|---|---|---|\n",
       "| 61 | 120 | 0.1083181 | 0.04706721 | 0.7871169 | 0.9219079 | 0.134791 |\n",
       "\n"
      ],
      "text/plain": [
       "  n_no n_yes sd_no     sd_yes     mean_no   mean_yes  mean_diff\n",
       "1 61   120   0.1083181 0.04706721 0.7871169 0.9219079 0.134791 "
      ]
     },
     "metadata": {},
     "output_type": "display_data"
    }
   ],
   "source": [
    "## Filter and select the data in winter\n",
    "registered_prop_winter <- weather_mutated_data %>%\n",
    "filter(season == \"Winter\")%>%\n",
    "select(workingday,prop,season)\n",
    "\n",
    "head(registered_prop_winter)\n",
    "\n",
    "sample_summary_winter <- registered_prop_winter %>%\n",
    "        group_by(workingday)%>%\n",
    "        summarize(mean = mean(prop),\n",
    "                 n = n(),\n",
    "                  sd = sd(prop),\n",
    "                  `.groups` = \"drop\") %>%\n",
    "     pivot_wider(names_from = workingday, values_from = c(n, sd, mean)) %>% \n",
    "     mutate(mean_diff = mean_yes - mean_no)\n",
    "\n",
    "\n",
    "sample_summary_winter"
   ]
  },
  {
   "cell_type": "code",
   "execution_count": 77,
   "id": "00e81d65-118b-4d8b-810c-2e483dfe9932",
   "metadata": {},
   "outputs": [
    {
     "data": {
      "text/html": [
       "<table class=\"dataframe\">\n",
       "<caption>A data.frame: 6 × 3</caption>\n",
       "<thead>\n",
       "\t<tr><th></th><th scope=col>workingday</th><th scope=col>prop</th><th scope=col>season</th></tr>\n",
       "\t<tr><th></th><th scope=col>&lt;fct&gt;</th><th scope=col>&lt;dbl&gt;</th><th scope=col>&lt;fct&gt;</th></tr>\n",
       "</thead>\n",
       "<tbody>\n",
       "\t<tr><th scope=row>1</th><td>yes</td><td>0.8399173</td><td>Summer</td></tr>\n",
       "\t<tr><th scope=row>2</th><td>yes</td><td>0.8533393</td><td>Summer</td></tr>\n",
       "\t<tr><th scope=row>3</th><td>yes</td><td>0.8442589</td><td>Summer</td></tr>\n",
       "\t<tr><th scope=row>4</th><td>yes</td><td>0.8058505</td><td>Summer</td></tr>\n",
       "\t<tr><th scope=row>5</th><td>no </td><td>0.6574394</td><td>Summer</td></tr>\n",
       "\t<tr><th scope=row>6</th><td>no </td><td>0.6380773</td><td>Summer</td></tr>\n",
       "</tbody>\n",
       "</table>\n"
      ],
      "text/latex": [
       "A data.frame: 6 × 3\n",
       "\\begin{tabular}{r|lll}\n",
       "  & workingday & prop & season\\\\\n",
       "  & <fct> & <dbl> & <fct>\\\\\n",
       "\\hline\n",
       "\t1 & yes & 0.8399173 & Summer\\\\\n",
       "\t2 & yes & 0.8533393 & Summer\\\\\n",
       "\t3 & yes & 0.8442589 & Summer\\\\\n",
       "\t4 & yes & 0.8058505 & Summer\\\\\n",
       "\t5 & no  & 0.6574394 & Summer\\\\\n",
       "\t6 & no  & 0.6380773 & Summer\\\\\n",
       "\\end{tabular}\n"
      ],
      "text/markdown": [
       "\n",
       "A data.frame: 6 × 3\n",
       "\n",
       "| <!--/--> | workingday &lt;fct&gt; | prop &lt;dbl&gt; | season &lt;fct&gt; |\n",
       "|---|---|---|---|\n",
       "| 1 | yes | 0.8399173 | Summer |\n",
       "| 2 | yes | 0.8533393 | Summer |\n",
       "| 3 | yes | 0.8442589 | Summer |\n",
       "| 4 | yes | 0.8058505 | Summer |\n",
       "| 5 | no  | 0.6574394 | Summer |\n",
       "| 6 | no  | 0.6380773 | Summer |\n",
       "\n"
      ],
      "text/plain": [
       "  workingday prop      season\n",
       "1 yes        0.8399173 Summer\n",
       "2 yes        0.8533393 Summer\n",
       "3 yes        0.8442589 Summer\n",
       "4 yes        0.8058505 Summer\n",
       "5 no         0.6574394 Summer\n",
       "6 no         0.6380773 Summer"
      ]
     },
     "metadata": {},
     "output_type": "display_data"
    },
    {
     "data": {
      "text/html": [
       "<table class=\"dataframe\">\n",
       "<caption>A tibble: 1 × 7</caption>\n",
       "<thead>\n",
       "\t<tr><th scope=col>n_no</th><th scope=col>n_yes</th><th scope=col>sd_no</th><th scope=col>sd_yes</th><th scope=col>mean_no</th><th scope=col>mean_yes</th><th scope=col>mean_diff</th></tr>\n",
       "\t<tr><th scope=col>&lt;int&gt;</th><th scope=col>&lt;int&gt;</th><th scope=col>&lt;dbl&gt;</th><th scope=col>&lt;dbl&gt;</th><th scope=col>&lt;dbl&gt;</th><th scope=col>&lt;dbl&gt;</th><th scope=col>&lt;dbl&gt;</th></tr>\n",
       "</thead>\n",
       "<tbody>\n",
       "\t<tr><td>57</td><td>131</td><td>0.05919498</td><td>0.02988689</td><td>0.6578987</td><td>0.8421875</td><td>0.1842887</td></tr>\n",
       "</tbody>\n",
       "</table>\n"
      ],
      "text/latex": [
       "A tibble: 1 × 7\n",
       "\\begin{tabular}{lllllll}\n",
       " n\\_no & n\\_yes & sd\\_no & sd\\_yes & mean\\_no & mean\\_yes & mean\\_diff\\\\\n",
       " <int> & <int> & <dbl> & <dbl> & <dbl> & <dbl> & <dbl>\\\\\n",
       "\\hline\n",
       "\t 57 & 131 & 0.05919498 & 0.02988689 & 0.6578987 & 0.8421875 & 0.1842887\\\\\n",
       "\\end{tabular}\n"
      ],
      "text/markdown": [
       "\n",
       "A tibble: 1 × 7\n",
       "\n",
       "| n_no &lt;int&gt; | n_yes &lt;int&gt; | sd_no &lt;dbl&gt; | sd_yes &lt;dbl&gt; | mean_no &lt;dbl&gt; | mean_yes &lt;dbl&gt; | mean_diff &lt;dbl&gt; |\n",
       "|---|---|---|---|---|---|---|\n",
       "| 57 | 131 | 0.05919498 | 0.02988689 | 0.6578987 | 0.8421875 | 0.1842887 |\n",
       "\n"
      ],
      "text/plain": [
       "  n_no n_yes sd_no      sd_yes     mean_no   mean_yes  mean_diff\n",
       "1 57   131   0.05919498 0.02988689 0.6578987 0.8421875 0.1842887"
      ]
     },
     "metadata": {},
     "output_type": "display_data"
    }
   ],
   "source": [
    "## Filter and select the data in summer\n",
    "\n",
    "registered_prop_summer <- weather_mutated_data %>%\n",
    "filter(season == \"Summer\")%>%\n",
    "select(workingday,prop,season)\n",
    "\n",
    "head(registered_prop_summer)\n",
    "\n",
    "sample_summary_summer <- registered_prop_summer %>%\n",
    "        group_by(workingday)%>%\n",
    "        summarize(mean = mean(prop),\n",
    "                 n = n(),\n",
    "                  sd = sd(prop),\n",
    "                  `.groups` = \"drop\") %>%\n",
    "     pivot_wider(names_from = workingday, values_from = c(n, sd, mean)) %>% \n",
    "     mutate(mean_diff = mean_yes - mean_no)\n",
    "\n",
    "\n",
    "sample_summary_summer"
   ]
  },
  {
   "cell_type": "markdown",
   "id": "4e809fb2-ef95-401c-81b3-9a88ad5ea431",
   "metadata": {},
   "source": [
    "#### V. Plots"
   ]
  },
  {
   "cell_type": "code",
   "execution_count": 78,
   "id": "06a94764-4746-422b-8548-373f0874d196",
   "metadata": {},
   "outputs": [
    {
     "data": {
      "image/png": "[encoded data removed]",
      "text/plain": [
       "plot without title"
      ]
     },
     "metadata": {
      "image/png": {
       "height": 480,
       "width": 1200
      }
     },
     "output_type": "display_data"
    }
   ],
   "source": [
    "options(repr.plot.width = 20, repr.plot.height = 8)\n",
    "\n",
    "# Distribution of proportion of raw data\n",
    "\n",
    "boxplots <- \n",
    "    weather_mutated_data %>%  \n",
    "    ggplot(aes(x = workingday, y = prop)) + \n",
    "    geom_boxplot() + \n",
    "    xlab(\"Working Day\") +\n",
    "    ylab(\"Proportion of Registered User\") +\n",
    "ggtitle(\"Boxplots of Proportion of Registered User\")+\n",
    "theme(plot.title = element_text(size = 25, face = \"bold\"), axis.title=element_text(size=20), text = element_text(size=25))\n",
    "\n",
    "\n",
    "boxplots"
   ]
  },
  {
   "cell_type": "markdown",
   "id": "bdcaa5e5-fb3f-4aa9-a3c0-25aac4824012",
   "metadata": {},
   "source": [
    "### Methods: Plan"
   ]
  },
  {
   "cell_type": "markdown",
   "id": "4ba62406-5b0c-4bf7-8865-293e31dfdb1f",
   "metadata": {},
   "source": []
  },
  {
   "cell_type": "markdown",
   "id": "f62aaf0a-7b2e-4f30-9d90-6df4d5d8880e",
   "metadata": {},
   "source": [
    "Throughout our analysis we hold the null hypothesis that registered and casual users have identical usage rates independent of the day of the week. Based on aforementioned academic research and our intuition as researchers, we set the alternative hypothesis that the proportion of registered users that use the bike share system is higher than casual users during the work week to a significant degree.\n",
    "\n",
    "The sample size used for our plots and estimates was large enough to produce close to accurate results. The use of bootstrap sampling has made it easier to derive the estimates for the proportions without having to use the entire sample or having the need to collect more data. Even though the results produced are good estimates they are not strong enough to prove or provide anything substantial. Calculating the 90% confidence interval for the average proportions of registered users will provide a range within which there would be a 90% chance of having the true proportions. We expect to find the two proportions are significantly different from each other. We expect to disprove the null hypothesis and accept the alternate hypothesis.\n",
    "\n",
    "##### Expectation\n",
    "\n",
    "We expect to find estimates for the proportion of each weather condition in spring and winter and their respective 90% confidence intervals. Conduct hypothesis tests to find out if there are significant differences between the proportions of weather conditions for each season. We then further develop the trust of our report by offering measures of statistical significance, P-values.\n",
    "\n",
    "##### Impact\n",
    "\n",
    "This analysis could prove beneficial for marketing departments to better define target markets and allocate marketing efforts, or to better inform the placement of new automated bike racks to optimize for registered users.\n",
    "\n",
    "Future question that might come up due to our study include: \n",
    "1. Are there any other factors that draw the interest of the registered user?   \n",
    "2. Does weather affect the consumer behaviour of the registered user?\n",
    "3. What factors draw the interest of casual users?"
   ]
  },
  {
   "cell_type": "markdown",
   "id": "2c799c46-b6d4-49ac-8342-43cab51ea142",
   "metadata": {},
   "source": [
    "### Hypothesis Test"
   ]
  },
  {
   "cell_type": "markdown",
   "id": "ae8b48a8-607c-4dcd-b4f4-a537686afd62",
   "metadata": {},
   "source": [
    "We are going to test the winter sample first."
   ]
  },
  {
   "cell_type": "code",
   "execution_count": 79,
   "id": "2d0f798c-b783-49cd-80f8-13e0277b8b4c",
   "metadata": {},
   "outputs": [
    {
     "data": {
      "text/html": [
       "<table class=\"dataframe\">\n",
       "<caption>A tibble: 1 × 1</caption>\n",
       "<thead>\n",
       "\t<tr><th scope=col>stat</th></tr>\n",
       "\t<tr><th scope=col>&lt;dbl&gt;</th></tr>\n",
       "</thead>\n",
       "<tbody>\n",
       "\t<tr><td>0.134791</td></tr>\n",
       "</tbody>\n",
       "</table>\n"
      ],
      "text/latex": [
       "A tibble: 1 × 1\n",
       "\\begin{tabular}{l}\n",
       " stat\\\\\n",
       " <dbl>\\\\\n",
       "\\hline\n",
       "\t 0.134791\\\\\n",
       "\\end{tabular}\n"
      ],
      "text/markdown": [
       "\n",
       "A tibble: 1 × 1\n",
       "\n",
       "| stat &lt;dbl&gt; |\n",
       "|---|\n",
       "| 0.134791 |\n",
       "\n"
      ],
      "text/plain": [
       "  stat    \n",
       "1 0.134791"
      ]
     },
     "metadata": {},
     "output_type": "display_data"
    }
   ],
   "source": [
    "## calculate the test statistics\n",
    "test_stat <- registered_prop_winter %>%\n",
    "specify(formula = prop ~ workingday) %>%\n",
    "calculate(stat = \"diff in means\", order = c(\"yes\",\"no\"))\n",
    "\n",
    "test_stat"
   ]
  },
  {
   "cell_type": "code",
   "execution_count": 80,
   "id": "a2254169-2150-4416-a80c-b82ced0ba93f",
   "metadata": {},
   "outputs": [
    {
     "data": {
      "text/html": [
       "<table class=\"dataframe\">\n",
       "<caption>A tibble: 6 × 2</caption>\n",
       "<thead>\n",
       "\t<tr><th scope=col>replicate</th><th scope=col>stat</th></tr>\n",
       "\t<tr><th scope=col>&lt;int&gt;</th><th scope=col>&lt;dbl&gt;</th></tr>\n",
       "</thead>\n",
       "<tbody>\n",
       "\t<tr><td>1</td><td>-0.016279216</td></tr>\n",
       "\t<tr><td>2</td><td>-0.015137209</td></tr>\n",
       "\t<tr><td>3</td><td>-0.025457069</td></tr>\n",
       "\t<tr><td>4</td><td> 0.015774802</td></tr>\n",
       "\t<tr><td>5</td><td>-0.009749897</td></tr>\n",
       "\t<tr><td>6</td><td> 0.004310887</td></tr>\n",
       "</tbody>\n",
       "</table>\n"
      ],
      "text/latex": [
       "A tibble: 6 × 2\n",
       "\\begin{tabular}{ll}\n",
       " replicate & stat\\\\\n",
       " <int> & <dbl>\\\\\n",
       "\\hline\n",
       "\t 1 & -0.016279216\\\\\n",
       "\t 2 & -0.015137209\\\\\n",
       "\t 3 & -0.025457069\\\\\n",
       "\t 4 &  0.015774802\\\\\n",
       "\t 5 & -0.009749897\\\\\n",
       "\t 6 &  0.004310887\\\\\n",
       "\\end{tabular}\n"
      ],
      "text/markdown": [
       "\n",
       "A tibble: 6 × 2\n",
       "\n",
       "| replicate &lt;int&gt; | stat &lt;dbl&gt; |\n",
       "|---|---|\n",
       "| 1 | -0.016279216 |\n",
       "| 2 | -0.015137209 |\n",
       "| 3 | -0.025457069 |\n",
       "| 4 |  0.015774802 |\n",
       "| 5 | -0.009749897 |\n",
       "| 6 |  0.004310887 |\n",
       "\n"
      ],
      "text/plain": [
       "  replicate stat        \n",
       "1 1         -0.016279216\n",
       "2 2         -0.015137209\n",
       "3 3         -0.025457069\n",
       "4 4          0.015774802\n",
       "5 5         -0.009749897\n",
       "6 6          0.004310887"
      ]
     },
     "metadata": {},
     "output_type": "display_data"
    }
   ],
   "source": [
    "## build a null model\n",
    "null_model <- \n",
    "registered_prop_winter %>%\n",
    "specify(formula = prop ~ workingday) %>%\n",
    "hypothesize(null = \"independence\") %>%\n",
    "generate(reps = 1000, type = \"permute\") %>%\n",
    "calculate(stat = \"diff in means\", order = c(\"yes\",\"no\"))\n",
    "head(null_model)"
   ]
  },
  {
   "cell_type": "code",
   "execution_count": 81,
   "id": "2eb6bc12-a78b-4bc0-8c49-ff7079b721e2",
   "metadata": {},
   "outputs": [
    {
     "name": "stderr",
     "output_type": "stream",
     "text": [
      "Warning message:\n",
      "“Please be cautious in reporting a p-value of 0. This result is an approximation based on the number of `reps` chosen in the `generate()` step. See `?get_p_value()` for more information.”\n"
     ]
    },
    {
     "data": {
      "text/html": [
       "<table class=\"dataframe\">\n",
       "<caption>A tibble: 1 × 1</caption>\n",
       "<thead>\n",
       "\t<tr><th scope=col>p_value</th></tr>\n",
       "\t<tr><th scope=col>&lt;dbl&gt;</th></tr>\n",
       "</thead>\n",
       "<tbody>\n",
       "\t<tr><td>0</td></tr>\n",
       "</tbody>\n",
       "</table>\n"
      ],
      "text/latex": [
       "A tibble: 1 × 1\n",
       "\\begin{tabular}{l}\n",
       " p\\_value\\\\\n",
       " <dbl>\\\\\n",
       "\\hline\n",
       "\t 0\\\\\n",
       "\\end{tabular}\n"
      ],
      "text/markdown": [
       "\n",
       "A tibble: 1 × 1\n",
       "\n",
       "| p_value &lt;dbl&gt; |\n",
       "|---|\n",
       "| 0 |\n",
       "\n"
      ],
      "text/plain": [
       "  p_value\n",
       "1 0      "
      ]
     },
     "metadata": {},
     "output_type": "display_data"
    }
   ],
   "source": [
    "## get the p value\n",
    "p_value <- \n",
    "    null_model %>% \n",
    "    get_p_value(obs_stat = test_stat, direction = \"two_sided\")\n",
    "\n",
    "p_value"
   ]
  },
  {
   "cell_type": "code",
   "execution_count": 82,
   "id": "5cc45a41-98dd-476d-b103-05ef98c1a1db",
   "metadata": {},
   "outputs": [
    {
     "data": {
      "image/png": "[encoded data removed]",
      "text/plain": [
       "plot without title"
      ]
     },
     "metadata": {
      "image/png": {
       "height": 480,
       "width": 1200
      }
     },
     "output_type": "display_data"
    }
   ],
   "source": [
    "## plot the null model and the p-value\n",
    "registered_plot <- \n",
    "    null_model %>%\n",
    "    visualize() + \n",
    "    shade_p_value(obs_stat = test_stat, direction = \"two_sided\")+\n",
    "    labs(x = \"Difference in Means\")+\n",
    "    ggtitle(\"Null Distribution and p-value for Winter\")\n",
    "registered_plot"
   ]
  },
  {
   "cell_type": "markdown",
   "id": "de5190ca-96e2-458c-8888-8086d94af28d",
   "metadata": {},
   "source": [
    "### Theory-based Test"
   ]
  },
  {
   "cell_type": "markdown",
   "id": "01f0327e-816d-454b-9e3d-a15ce56350d4",
   "metadata": {},
   "source": [
    "Here, we need to use the t-distribution. We need to check the assumptions for t-distribution.\n",
    "\n",
    "1. <b>The population is normally distributed</b>. We do not have full access to the population, so we cannot assume the population is normally distributed.\n",
    "2. <b>The population is not normally distributed</b>. We need to check if the Central Limit Theorem is valid here. Our sample sizes are large enough with each of them exceed size 50."
   ]
  },
  {
   "cell_type": "markdown",
   "id": "ded9e7bf-20a2-42a4-96ca-d74886d3977f",
   "metadata": {},
   "source": [
    "We are going to test the winter sample first."
   ]
  },
  {
   "cell_type": "code",
   "execution_count": 90,
   "id": "5fd47f3b-6473-409a-8696-a7d225f84ee8",
   "metadata": {},
   "outputs": [
    {
     "data": {
      "text/html": [
       "<table class=\"dataframe\">\n",
       "<caption>A tibble: 1 × 10</caption>\n",
       "<thead>\n",
       "\t<tr><th scope=col>n_no</th><th scope=col>n_yes</th><th scope=col>sd_no</th><th scope=col>sd_yes</th><th scope=col>mean_no</th><th scope=col>mean_yes</th><th scope=col>mean_diff</th><th scope=col>null_std_error</th><th scope=col>test_stat</th><th scope=col>p_value</th></tr>\n",
       "\t<tr><th scope=col>&lt;int&gt;</th><th scope=col>&lt;int&gt;</th><th scope=col>&lt;dbl&gt;</th><th scope=col>&lt;dbl&gt;</th><th scope=col>&lt;dbl&gt;</th><th scope=col>&lt;dbl&gt;</th><th scope=col>&lt;dbl&gt;</th><th scope=col>&lt;dbl&gt;</th><th scope=col>&lt;dbl&gt;</th><th scope=col>&lt;dbl&gt;</th></tr>\n",
       "</thead>\n",
       "<tbody>\n",
       "\t<tr><td>61</td><td>120</td><td>0.1083181</td><td>0.04706721</td><td>0.7871169</td><td>0.9219079</td><td>0.134791</td><td>0.01451902</td><td>9.283751</td><td>8.278149e-56</td></tr>\n",
       "</tbody>\n",
       "</table>\n"
      ],
      "text/latex": [
       "A tibble: 1 × 10\n",
       "\\begin{tabular}{llllllllll}\n",
       " n\\_no & n\\_yes & sd\\_no & sd\\_yes & mean\\_no & mean\\_yes & mean\\_diff & null\\_std\\_error & test\\_stat & p\\_value\\\\\n",
       " <int> & <int> & <dbl> & <dbl> & <dbl> & <dbl> & <dbl> & <dbl> & <dbl> & <dbl>\\\\\n",
       "\\hline\n",
       "\t 61 & 120 & 0.1083181 & 0.04706721 & 0.7871169 & 0.9219079 & 0.134791 & 0.01451902 & 9.283751 & 8.278149e-56\\\\\n",
       "\\end{tabular}\n"
      ],
      "text/markdown": [
       "\n",
       "A tibble: 1 × 10\n",
       "\n",
       "| n_no &lt;int&gt; | n_yes &lt;int&gt; | sd_no &lt;dbl&gt; | sd_yes &lt;dbl&gt; | mean_no &lt;dbl&gt; | mean_yes &lt;dbl&gt; | mean_diff &lt;dbl&gt; | null_std_error &lt;dbl&gt; | test_stat &lt;dbl&gt; | p_value &lt;dbl&gt; |\n",
       "|---|---|---|---|---|---|---|---|---|---|\n",
       "| 61 | 120 | 0.1083181 | 0.04706721 | 0.7871169 | 0.9219079 | 0.134791 | 0.01451902 | 9.283751 | 8.278149e-56 |\n",
       "\n"
      ],
      "text/plain": [
       "  n_no n_yes sd_no     sd_yes     mean_no   mean_yes  mean_diff null_std_error\n",
       "1 61   120   0.1083181 0.04706721 0.7871169 0.9219079 0.134791  0.01451902    \n",
       "  test_stat p_value     \n",
       "1 9.283751  8.278149e-56"
      ]
     },
     "metadata": {},
     "output_type": "display_data"
    }
   ],
   "source": [
    "## calculate the test statistics\n",
    "\n",
    "sample_summary_winter <- \n",
    "sample_summary_winter %>%\n",
    "mutate(mean_diff = mean_yes - mean_no)%>%\n",
    "mutate(null_std_error = sqrt(sd_yes^2/n_yes + sd_no^2/n_no))%>%\n",
    "mutate(test_stat = mean_diff/null_std_error)\n",
    "\n",
    "sample_summary_winter"
   ]
  },
  {
   "cell_type": "code",
   "execution_count": 84,
   "id": "3e24cd61-4921-45e6-baee-2ffe0e3b3482",
   "metadata": {},
   "outputs": [
    {
     "data": {
      "text/html": [
       "<table class=\"dataframe\">\n",
       "<caption>A tibble: 1 × 10</caption>\n",
       "<thead>\n",
       "\t<tr><th scope=col>n_no</th><th scope=col>n_yes</th><th scope=col>sd_no</th><th scope=col>sd_yes</th><th scope=col>mean_no</th><th scope=col>mean_yes</th><th scope=col>mean_diff</th><th scope=col>null_std_error</th><th scope=col>test_stat</th><th scope=col>p_value</th></tr>\n",
       "\t<tr><th scope=col>&lt;int&gt;</th><th scope=col>&lt;int&gt;</th><th scope=col>&lt;dbl&gt;</th><th scope=col>&lt;dbl&gt;</th><th scope=col>&lt;dbl&gt;</th><th scope=col>&lt;dbl&gt;</th><th scope=col>&lt;dbl&gt;</th><th scope=col>&lt;dbl&gt;</th><th scope=col>&lt;dbl&gt;</th><th scope=col>&lt;dbl&gt;</th></tr>\n",
       "</thead>\n",
       "<tbody>\n",
       "\t<tr><td>61</td><td>120</td><td>0.1083181</td><td>0.04706721</td><td>0.7871169</td><td>0.9219079</td><td>0.134791</td><td>0.01451902</td><td>9.283751</td><td>8.278149e-56</td></tr>\n",
       "</tbody>\n",
       "</table>\n"
      ],
      "text/latex": [
       "A tibble: 1 × 10\n",
       "\\begin{tabular}{llllllllll}\n",
       " n\\_no & n\\_yes & sd\\_no & sd\\_yes & mean\\_no & mean\\_yes & mean\\_diff & null\\_std\\_error & test\\_stat & p\\_value\\\\\n",
       " <int> & <int> & <dbl> & <dbl> & <dbl> & <dbl> & <dbl> & <dbl> & <dbl> & <dbl>\\\\\n",
       "\\hline\n",
       "\t 61 & 120 & 0.1083181 & 0.04706721 & 0.7871169 & 0.9219079 & 0.134791 & 0.01451902 & 9.283751 & 8.278149e-56\\\\\n",
       "\\end{tabular}\n"
      ],
      "text/markdown": [
       "\n",
       "A tibble: 1 × 10\n",
       "\n",
       "| n_no &lt;int&gt; | n_yes &lt;int&gt; | sd_no &lt;dbl&gt; | sd_yes &lt;dbl&gt; | mean_no &lt;dbl&gt; | mean_yes &lt;dbl&gt; | mean_diff &lt;dbl&gt; | null_std_error &lt;dbl&gt; | test_stat &lt;dbl&gt; | p_value &lt;dbl&gt; |\n",
       "|---|---|---|---|---|---|---|---|---|---|\n",
       "| 61 | 120 | 0.1083181 | 0.04706721 | 0.7871169 | 0.9219079 | 0.134791 | 0.01451902 | 9.283751 | 8.278149e-56 |\n",
       "\n"
      ],
      "text/plain": [
       "  n_no n_yes sd_no     sd_yes     mean_no   mean_yes  mean_diff null_std_error\n",
       "1 61   120   0.1083181 0.04706721 0.7871169 0.9219079 0.134791  0.01451902    \n",
       "  test_stat p_value     \n",
       "1 9.283751  8.278149e-56"
      ]
     },
     "metadata": {},
     "output_type": "display_data"
    }
   ],
   "source": [
    "## calculate the p-value\n",
    "sample_summary_winter <- \n",
    "sample_summary_winter %>%\n",
    "mutate(p_value = 2*pt(test_stat_classical , df = nrow(registered_prop_winter) - 1,lower.tail = FALSE))\n",
    "sample_summary_winter"
   ]
  },
  {
   "cell_type": "code",
   "execution_count": 85,
   "id": "7a0fd032-55dc-4c0b-8b7e-a2a4e261d57b",
   "metadata": {},
   "outputs": [
    {
     "data": {
      "text/html": [
       "<table class=\"dataframe\">\n",
       "<caption>A tibble: 1 × 10</caption>\n",
       "<thead>\n",
       "\t<tr><th scope=col>estimate</th><th scope=col>estimate1</th><th scope=col>estimate2</th><th scope=col>statistic</th><th scope=col>p.value</th><th scope=col>parameter</th><th scope=col>conf.low</th><th scope=col>conf.high</th><th scope=col>method</th><th scope=col>alternative</th></tr>\n",
       "\t<tr><th scope=col>&lt;dbl&gt;</th><th scope=col>&lt;dbl&gt;</th><th scope=col>&lt;dbl&gt;</th><th scope=col>&lt;dbl&gt;</th><th scope=col>&lt;dbl&gt;</th><th scope=col>&lt;dbl&gt;</th><th scope=col>&lt;dbl&gt;</th><th scope=col>&lt;dbl&gt;</th><th scope=col>&lt;chr&gt;</th><th scope=col>&lt;chr&gt;</th></tr>\n",
       "</thead>\n",
       "<tbody>\n",
       "\t<tr><td>0.2124098</td><td>0.9219079</td><td>0.7094981</td><td>26.28219</td><td>2.993115e-84</td><td>343.7934</td><td>0.1965136</td><td>0.2283059</td><td>Welch Two Sample t-test</td><td>two.sided</td></tr>\n",
       "</tbody>\n",
       "</table>\n"
      ],
      "text/latex": [
       "A tibble: 1 × 10\n",
       "\\begin{tabular}{llllllllll}\n",
       " estimate & estimate1 & estimate2 & statistic & p.value & parameter & conf.low & conf.high & method & alternative\\\\\n",
       " <dbl> & <dbl> & <dbl> & <dbl> & <dbl> & <dbl> & <dbl> & <dbl> & <chr> & <chr>\\\\\n",
       "\\hline\n",
       "\t 0.2124098 & 0.9219079 & 0.7094981 & 26.28219 & 2.993115e-84 & 343.7934 & 0.1965136 & 0.2283059 & Welch Two Sample t-test & two.sided\\\\\n",
       "\\end{tabular}\n"
      ],
      "text/markdown": [
       "\n",
       "A tibble: 1 × 10\n",
       "\n",
       "| estimate &lt;dbl&gt; | estimate1 &lt;dbl&gt; | estimate2 &lt;dbl&gt; | statistic &lt;dbl&gt; | p.value &lt;dbl&gt; | parameter &lt;dbl&gt; | conf.low &lt;dbl&gt; | conf.high &lt;dbl&gt; | method &lt;chr&gt; | alternative &lt;chr&gt; |\n",
       "|---|---|---|---|---|---|---|---|---|---|\n",
       "| 0.2124098 | 0.9219079 | 0.7094981 | 26.28219 | 2.993115e-84 | 343.7934 | 0.1965136 | 0.2283059 | Welch Two Sample t-test | two.sided |\n",
       "\n"
      ],
      "text/plain": [
       "  estimate  estimate1 estimate2 statistic p.value      parameter conf.low \n",
       "1 0.2124098 0.9219079 0.7094981 26.28219  2.993115e-84 343.7934  0.1965136\n",
       "  conf.high method                  alternative\n",
       "1 0.2283059 Welch Two Sample t-test two.sided  "
      ]
     },
     "metadata": {},
     "output_type": "display_data"
    }
   ],
   "source": [
    "## perform the t-test\n",
    "\n",
    "Yes <- registered_prop_winter %>%\n",
    "filter(workingday == \"yes\")\n",
    "No <- registered_prop %>%\n",
    "filter(workingday == \"no\")\n",
    "\n",
    "registered_t_test <- tidy(\n",
    "t.test(x = Yes$prop, y = No$prop, alternative = \"two.sided\"))\n",
    "registered_t_test"
   ]
  },
  {
   "cell_type": "markdown",
   "id": "85a1c6c8-7656-4838-b37f-ab17c36fb93c",
   "metadata": {},
   "source": [
    "### Bootstrapping"
   ]
  },
  {
   "cell_type": "code",
   "execution_count": 86,
   "id": "29595359-efc6-4d60-a513-e4a5caabedd6",
   "metadata": {},
   "outputs": [
    {
     "data": {
      "text/html": [
       "<table class=\"dataframe\">\n",
       "<caption>A tibble: 6 × 2</caption>\n",
       "<thead>\n",
       "\t<tr><th scope=col>replicate</th><th scope=col>stat</th></tr>\n",
       "\t<tr><th scope=col>&lt;int&gt;</th><th scope=col>&lt;dbl&gt;</th></tr>\n",
       "</thead>\n",
       "<tbody>\n",
       "\t<tr><td>1</td><td>0.8695840</td></tr>\n",
       "\t<tr><td>2</td><td>0.8820507</td></tr>\n",
       "\t<tr><td>3</td><td>0.8764630</td></tr>\n",
       "\t<tr><td>4</td><td>0.8741454</td></tr>\n",
       "\t<tr><td>5</td><td>0.8697201</td></tr>\n",
       "\t<tr><td>6</td><td>0.8839472</td></tr>\n",
       "</tbody>\n",
       "</table>\n"
      ],
      "text/latex": [
       "A tibble: 6 × 2\n",
       "\\begin{tabular}{ll}\n",
       " replicate & stat\\\\\n",
       " <int> & <dbl>\\\\\n",
       "\\hline\n",
       "\t 1 & 0.8695840\\\\\n",
       "\t 2 & 0.8820507\\\\\n",
       "\t 3 & 0.8764630\\\\\n",
       "\t 4 & 0.8741454\\\\\n",
       "\t 5 & 0.8697201\\\\\n",
       "\t 6 & 0.8839472\\\\\n",
       "\\end{tabular}\n"
      ],
      "text/markdown": [
       "\n",
       "A tibble: 6 × 2\n",
       "\n",
       "| replicate &lt;int&gt; | stat &lt;dbl&gt; |\n",
       "|---|---|\n",
       "| 1 | 0.8695840 |\n",
       "| 2 | 0.8820507 |\n",
       "| 3 | 0.8764630 |\n",
       "| 4 | 0.8741454 |\n",
       "| 5 | 0.8697201 |\n",
       "| 6 | 0.8839472 |\n",
       "\n"
      ],
      "text/plain": [
       "  replicate stat     \n",
       "1 1         0.8695840\n",
       "2 2         0.8820507\n",
       "3 3         0.8764630\n",
       "4 4         0.8741454\n",
       "5 5         0.8697201\n",
       "6 6         0.8839472"
      ]
     },
     "metadata": {},
     "output_type": "display_data"
    }
   ],
   "source": [
    "## create a bootstrap distribution\n",
    "resampled_winter <- registered_prop_winter %>%\n",
    "specify(response = prop)%>%\n",
    "generate(reps = 1000, type = \"bootstrap\")%>%\n",
    "calculate(stat = \"mean\")\n",
    "head(resampled_winter)"
   ]
  },
  {
   "cell_type": "code",
   "execution_count": 88,
   "id": "5719b04a-10ea-47d9-bc18-55c1f33a021b",
   "metadata": {},
   "outputs": [
    {
     "data": {
      "text/html": [
       "<table class=\"dataframe\">\n",
       "<caption>A tibble: 1 × 2</caption>\n",
       "<thead>\n",
       "\t<tr><th scope=col>lower_ci</th><th scope=col>upper_ci</th></tr>\n",
       "\t<tr><th scope=col>&lt;dbl&gt;</th><th scope=col>&lt;dbl&gt;</th></tr>\n",
       "</thead>\n",
       "<tbody>\n",
       "\t<tr><td>0.8618008</td><td>0.8895404</td></tr>\n",
       "</tbody>\n",
       "</table>\n"
      ],
      "text/latex": [
       "A tibble: 1 × 2\n",
       "\\begin{tabular}{ll}\n",
       " lower\\_ci & upper\\_ci\\\\\n",
       " <dbl> & <dbl>\\\\\n",
       "\\hline\n",
       "\t 0.8618008 & 0.8895404\\\\\n",
       "\\end{tabular}\n"
      ],
      "text/markdown": [
       "\n",
       "A tibble: 1 × 2\n",
       "\n",
       "| lower_ci &lt;dbl&gt; | upper_ci &lt;dbl&gt; |\n",
       "|---|---|\n",
       "| 0.8618008 | 0.8895404 |\n",
       "\n"
      ],
      "text/plain": [
       "  lower_ci  upper_ci \n",
       "1 0.8618008 0.8895404"
      ]
     },
     "metadata": {},
     "output_type": "display_data"
    }
   ],
   "source": [
    "## get the 95% confidence interval\n",
    "\n",
    "percentile_ci <- \n",
    "resampled_winter %>%   \n",
    "get_confidence_interval(level = 0.95, type =\"percentile\")\n",
    "percentile_ci "
   ]
  },
  {
   "cell_type": "code",
   "execution_count": 89,
   "id": "51016693-3669-4288-9725-556f8f313b26",
   "metadata": {},
   "outputs": [
    {
     "data": {
      "image/png": "[encoded data removed]",
      "text/plain": [
       "plot without title"
      ]
     },
     "metadata": {
      "image/png": {
       "height": 480,
       "width": 1200
      }
     },
     "output_type": "display_data"
    }
   ],
   "source": [
    "## visualize the bootstrap distribution\n",
    "\n",
    "visualize(resampled_winter) +    \n",
    "shade_confidence_interval(endpoints = percentile_ci)"
   ]
  },
  {
   "cell_type": "markdown",
   "id": "a5e69588-ef81-48ce-a206-6c9b5ebf997b",
   "metadata": {},
   "source": [
    "##### Interpretation of Confidence Interval"
   ]
  },
  {
   "cell_type": "markdown",
   "id": "368b38c5-c1a7-4765-af75-3c1d4029f2da",
   "metadata": {},
   "source": [
    "We are 95% confident that the true value of the mean proportions of registered users in winter is between 0.8618008 and 0.8895404."
   ]
  },
  {
   "cell_type": "markdown",
   "id": "b6c3ce8b-79a4-493e-b505-02b994d6ccc2",
   "metadata": {},
   "source": [
    "### References"
   ]
  },
  {
   "cell_type": "markdown",
   "id": "0d42c1bc-3a6c-459a-be06-8d20b948c2e0",
   "metadata": {},
   "source": [
    "Hadi Fanaee-T, Laboratory of Artificial Intelligence and Decision Support (LIAAD), University of Porto \n",
    "\n",
    "<em>\"Using weather forecast to forecast whether bikes are used\"<em> by Jan Wessel\n",
    "\n",
    "<em>\"The AI forecaster: Machine learning takes on weather prediction\"<em> by Aaron Sidder, American Geophysical Union\n",
    "\n",
    "<em>REFERENCES Kim, K. (2018, January). Investigation on the effects of weather and calendar events on bike-sharing according to the trip patterns of bike rentals of stations. ScienceDirect. Retrieved July 25, 2022, from https://doi.org/10.1016/j.jtrangeo.2018.01.001\n",
    "\n",
    "Hosford, K. (2018, December). Evaluation of the impact of a public bicycle share program on population bicycling in Vancouver, BC. ScienceDirect. Retrieved July 26, 2022, from https://doi.org/10.1016/j.pmedr.2018.09.014\n",
    "\n",
    "Fanaee-T, H., & Gama, J. (2013, November 26). Event labeling combining ensemble detectors and background knowledge - progress in Artificial Intelligence. SpringerLink. Retrieved July 25, 2022, from https://link.springer.com/article/10.1007/s13748-013-0040-3"
   ]
  }
 ],
 "metadata": {
  "kernelspec": {
   "display_name": "R",
   "language": "R",
   "name": "ir"
  },
  "language_info": {
   "codemirror_mode": "r",
   "file_extension": ".r",
   "mimetype": "text/x-r-source",
   "name": "R",
   "pygments_lexer": "r",
   "version": "4.0.5"
  }
 },
 "nbformat": 4,
 "nbformat_minor": 5
}
