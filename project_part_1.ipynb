{
 "cells": [
  {
   "cell_type": "markdown",
   "id": "fe2f70e6-ddf5-4984-8655-4edfcd45ceb5",
   "metadata": {},
   "source": [
    "# Compare Usage of Bike Share Program Among Users"
   ]
  },
  {
   "cell_type": "markdown",
   "id": "2215a702-ccd1-4c64-b9e5-a2e1a98911fa",
   "metadata": {
    "jp-MarkdownHeadingCollapsed": true,
    "tags": []
   },
   "source": [
    "#### Statistical Inference study on Weather Conditions Collected from a Bike Sharing Service"
   ]
  },
  {
   "cell_type": "markdown",
   "id": "1b882d4c-6a54-42c6-a6fa-29acdf253ce2",
   "metadata": {},
   "source": [
    "##### Authors: Alex Bastin, Amy Zhong, Naaimur Reza & Jeffrey Gao"
   ]
  },
  {
   "cell_type": "markdown",
   "id": "df5748d9-be36-4406-93f8-002366ec40fe",
   "metadata": {},
   "source": [
    "<img src=\"https://gohopr.com/wp-content/uploads/banner.jpg\" alt=\"Alternative text\" width = \"600\"/>"
   ]
  },
  {
   "cell_type": "markdown",
   "id": "90646594-fa80-4553-8e19-9342a3dbea78",
   "metadata": {
    "tags": []
   },
   "source": [
    "## Introduction"
   ]
  },
  {
   "cell_type": "markdown",
   "id": "79faf6cb-3a03-4fe4-b00a-9d1107068f21",
   "metadata": {},
   "source": [
    "Bike sharing systems are a novel method of public transportation that allows users to independently and autonomously rent, use, and return bikes to serve their daily transportation needs. Self-contained bike rental stations that are scattered across cities dispense bikes once users validate themselves or pay with an automated kiosk. These bikes are often equipped with an array of sensors, enabling them to collect an abundance of user usage data including weather data, like temperature and humidity; timing data, like day and time; and user data, like count of casual user daily usage (Fanaee-T & Gama, 2013). This data can be amalgamated into datasets to be analyzed by various interested parties, like the bike-sharing company or the city hosting the bike-sharing program. The dataset identified in this study is from a two-year study of the Capital Bikeshare system program in Washington, D.C. during 2011 and 2012 (Fanaee-T & Gama, 2013). The dataset contains 731 days of data wherein each day has 17 variables. These variables include the aforementioned data; weather data, timing data, and usage data.\n",
    "\n",
    "The objective of this analysis is to determine if the proportion of “registered” users of the Capital Bikeshare program is higher during the work week than “casual” users to a degree of statistical significance. We hope to derive further conclusions as we partition the dataset into winter and summer usage data, creating separate two datasets to analyze. We will quantify this usage with proportion mean as a location parameter and standard deviation as the scale parameter. We examine these two datasets with bootstrapping and asymptotic methods to derive summary statistics for each.\n",
    "\n",
    "For our analysis, two academic studies are deemed relevant. Kim (2018) analyzed a dataset of registered and non-registered user usage of a bike-sharing program usage in Daejeon, Korea. They found that demand for bike rental usage is significantly more inelastic to heat on working days than non-working days. The study also found that registered users are less inelastic to weather effects across all the data. Kim (2018) suggests explanations for the behaviors of registered users, such the registered users being commuters that rely on the service to commute between their home and work. Hosford (2018) analyzed a similar dataset of the Vancouver bike-sharing program, Mobi by Shaw that surveyed the program’s usage at varying intervals after its implementation. Contrary to Kim (2018), they found that the implementation of a bike share program has little impact on increasing bikeshare program usage rates both among registered and casual users in the long-term. Hosford (2018) did observe a significant increase in usage near the beginning of the implementation and proposes this is caused by the novelty of the program, which wanes in the long-run."
   ]
  },
  {
   "cell_type": "markdown",
   "id": "647acd4a-a8cc-43ea-9549-439b151d5175",
   "metadata": {
    "tags": []
   },
   "source": [
    "## Method: Preliminary Analysis"
   ]
  },
  {
   "cell_type": "markdown",
   "id": "05632b42-be11-44f3-a4ad-333d65dba5ea",
   "metadata": {},
   "source": [
    "First, we will load required packages."
   ]
  },
  {
   "cell_type": "code",
   "execution_count": 34,
   "id": "193a5b6c-04c1-4519-9090-0345c27dc5e7",
   "metadata": {},
   "outputs": [],
   "source": [
    "library(cowplot)\n",
    "library(datateachr)\n",
    "library(digest)\n",
    "library(infer)\n",
    "library(repr)\n",
    "library(taxyvr)\n",
    "library(tidyverse)\n",
    "library(dplyr)\n",
    "library(broom)\n",
    "library(datateachr)\n",
    "require(gridExtra)"
   ]
  },
  {
   "cell_type": "markdown",
   "id": "06e1ad1f-fa48-4d94-9a9b-c89fd796193d",
   "metadata": {},
   "source": [
    "Next, we load data from the original source on the web and unzip the file."
   ]
  },
  {
   "cell_type": "code",
   "execution_count": 39,
   "id": "eadeb61a-b2c2-4e0e-b130-2f7652e60339",
   "metadata": {},
   "outputs": [],
   "source": [
    "# URL\n",
    "url <- \"https://archive.ics.uci.edu/ml/machine-learning-databases/00275/Bike-Sharing-Dataset.zip\"\n",
    "\n",
    "# Download the dataset from the web\n",
    "destfile <- \"data/localfile.zip\"\n",
    "download.file(url, destfile)\n",
    "\n",
    "# Unzip the file\n",
    "unzip(\"data/localfile.zip\", exdir = \"data/\")          \n"
   ]
  },
  {
   "cell_type": "markdown",
   "id": "9c5ebc7b-2707-4ac6-a605-12df1f38987a",
   "metadata": {
    "tags": []
   },
   "source": [
    "Now, we clean and wrangle the data into a tidy format. The wrangling involves changing the \"season\" and \"workingday\" variables into factors, and mutating an additional columnn as the proportion of users that are registered for the given observation (day) in the dataset. We also convert the numeric representations of seasons outlined in the dataset read.me (1 = winter, 2 = spring, 3 = summer, 4 = fall) into factors as strings."
   ]
  },
  {
   "cell_type": "code",
   "execution_count": 160,
   "id": "34705809-b939-4097-9f59-5cbb84980d5f",
   "metadata": {},
   "outputs": [
    {
     "data": {
      "text/html": [
       "<table class=\"dataframe\">\n",
       "<caption>A data.frame: 6 × 17</caption>\n",
       "<thead>\n",
       "\t<tr><th></th><th scope=col>instant</th><th scope=col>dteday</th><th scope=col>season</th><th scope=col>yr</th><th scope=col>mnth</th><th scope=col>holiday</th><th scope=col>weekday</th><th scope=col>workingday</th><th scope=col>weathersit</th><th scope=col>temp</th><th scope=col>atemp</th><th scope=col>hum</th><th scope=col>windspeed</th><th scope=col>casual</th><th scope=col>registered</th><th scope=col>cnt</th><th scope=col>prop</th></tr>\n",
       "\t<tr><th></th><th scope=col>&lt;int&gt;</th><th scope=col>&lt;chr&gt;</th><th scope=col>&lt;fct&gt;</th><th scope=col>&lt;int&gt;</th><th scope=col>&lt;int&gt;</th><th scope=col>&lt;int&gt;</th><th scope=col>&lt;int&gt;</th><th scope=col>&lt;fct&gt;</th><th scope=col>&lt;int&gt;</th><th scope=col>&lt;dbl&gt;</th><th scope=col>&lt;dbl&gt;</th><th scope=col>&lt;dbl&gt;</th><th scope=col>&lt;dbl&gt;</th><th scope=col>&lt;int&gt;</th><th scope=col>&lt;int&gt;</th><th scope=col>&lt;int&gt;</th><th scope=col>&lt;dbl&gt;</th></tr>\n",
       "</thead>\n",
       "<tbody>\n",
       "\t<tr><th scope=row>1</th><td>1</td><td>2011-01-01</td><td>Winter</td><td>0</td><td>1</td><td>0</td><td>6</td><td>no </td><td>2</td><td>0.344167</td><td>0.363625</td><td>0.805833</td><td>0.1604460</td><td>331</td><td> 654</td><td> 985</td><td>0.6639594</td></tr>\n",
       "\t<tr><th scope=row>2</th><td>2</td><td>2011-01-02</td><td>Winter</td><td>0</td><td>1</td><td>0</td><td>0</td><td>no </td><td>2</td><td>0.363478</td><td>0.353739</td><td>0.696087</td><td>0.2485390</td><td>131</td><td> 670</td><td> 801</td><td>0.8364544</td></tr>\n",
       "\t<tr><th scope=row>3</th><td>3</td><td>2011-01-03</td><td>Winter</td><td>0</td><td>1</td><td>0</td><td>1</td><td>yes</td><td>1</td><td>0.196364</td><td>0.189405</td><td>0.437273</td><td>0.2483090</td><td>120</td><td>1229</td><td>1349</td><td>0.9110452</td></tr>\n",
       "\t<tr><th scope=row>4</th><td>4</td><td>2011-01-04</td><td>Winter</td><td>0</td><td>1</td><td>0</td><td>2</td><td>yes</td><td>1</td><td>0.200000</td><td>0.212122</td><td>0.590435</td><td>0.1602960</td><td>108</td><td>1454</td><td>1562</td><td>0.9308579</td></tr>\n",
       "\t<tr><th scope=row>5</th><td>5</td><td>2011-01-05</td><td>Winter</td><td>0</td><td>1</td><td>0</td><td>3</td><td>yes</td><td>1</td><td>0.226957</td><td>0.229270</td><td>0.436957</td><td>0.1869000</td><td> 82</td><td>1518</td><td>1600</td><td>0.9487500</td></tr>\n",
       "\t<tr><th scope=row>6</th><td>6</td><td>2011-01-06</td><td>Winter</td><td>0</td><td>1</td><td>0</td><td>4</td><td>yes</td><td>1</td><td>0.204348</td><td>0.233209</td><td>0.518261</td><td>0.0895652</td><td> 88</td><td>1518</td><td>1606</td><td>0.9452055</td></tr>\n",
       "</tbody>\n",
       "</table>\n"
      ],
      "text/latex": [
       "A data.frame: 6 × 17\n",
       "\\begin{tabular}{r|lllllllllllllllll}\n",
       "  & instant & dteday & season & yr & mnth & holiday & weekday & workingday & weathersit & temp & atemp & hum & windspeed & casual & registered & cnt & prop\\\\\n",
       "  & <int> & <chr> & <fct> & <int> & <int> & <int> & <int> & <fct> & <int> & <dbl> & <dbl> & <dbl> & <dbl> & <int> & <int> & <int> & <dbl>\\\\\n",
       "\\hline\n",
       "\t1 & 1 & 2011-01-01 & Winter & 0 & 1 & 0 & 6 & no  & 2 & 0.344167 & 0.363625 & 0.805833 & 0.1604460 & 331 &  654 &  985 & 0.6639594\\\\\n",
       "\t2 & 2 & 2011-01-02 & Winter & 0 & 1 & 0 & 0 & no  & 2 & 0.363478 & 0.353739 & 0.696087 & 0.2485390 & 131 &  670 &  801 & 0.8364544\\\\\n",
       "\t3 & 3 & 2011-01-03 & Winter & 0 & 1 & 0 & 1 & yes & 1 & 0.196364 & 0.189405 & 0.437273 & 0.2483090 & 120 & 1229 & 1349 & 0.9110452\\\\\n",
       "\t4 & 4 & 2011-01-04 & Winter & 0 & 1 & 0 & 2 & yes & 1 & 0.200000 & 0.212122 & 0.590435 & 0.1602960 & 108 & 1454 & 1562 & 0.9308579\\\\\n",
       "\t5 & 5 & 2011-01-05 & Winter & 0 & 1 & 0 & 3 & yes & 1 & 0.226957 & 0.229270 & 0.436957 & 0.1869000 &  82 & 1518 & 1600 & 0.9487500\\\\\n",
       "\t6 & 6 & 2011-01-06 & Winter & 0 & 1 & 0 & 4 & yes & 1 & 0.204348 & 0.233209 & 0.518261 & 0.0895652 &  88 & 1518 & 1606 & 0.9452055\\\\\n",
       "\\end{tabular}\n"
      ],
      "text/markdown": [
       "\n",
       "A data.frame: 6 × 17\n",
       "\n",
       "| <!--/--> | instant &lt;int&gt; | dteday &lt;chr&gt; | season &lt;fct&gt; | yr &lt;int&gt; | mnth &lt;int&gt; | holiday &lt;int&gt; | weekday &lt;int&gt; | workingday &lt;fct&gt; | weathersit &lt;int&gt; | temp &lt;dbl&gt; | atemp &lt;dbl&gt; | hum &lt;dbl&gt; | windspeed &lt;dbl&gt; | casual &lt;int&gt; | registered &lt;int&gt; | cnt &lt;int&gt; | prop &lt;dbl&gt; |\n",
       "|---|---|---|---|---|---|---|---|---|---|---|---|---|---|---|---|---|---|\n",
       "| 1 | 1 | 2011-01-01 | Winter | 0 | 1 | 0 | 6 | no  | 2 | 0.344167 | 0.363625 | 0.805833 | 0.1604460 | 331 |  654 |  985 | 0.6639594 |\n",
       "| 2 | 2 | 2011-01-02 | Winter | 0 | 1 | 0 | 0 | no  | 2 | 0.363478 | 0.353739 | 0.696087 | 0.2485390 | 131 |  670 |  801 | 0.8364544 |\n",
       "| 3 | 3 | 2011-01-03 | Winter | 0 | 1 | 0 | 1 | yes | 1 | 0.196364 | 0.189405 | 0.437273 | 0.2483090 | 120 | 1229 | 1349 | 0.9110452 |\n",
       "| 4 | 4 | 2011-01-04 | Winter | 0 | 1 | 0 | 2 | yes | 1 | 0.200000 | 0.212122 | 0.590435 | 0.1602960 | 108 | 1454 | 1562 | 0.9308579 |\n",
       "| 5 | 5 | 2011-01-05 | Winter | 0 | 1 | 0 | 3 | yes | 1 | 0.226957 | 0.229270 | 0.436957 | 0.1869000 |  82 | 1518 | 1600 | 0.9487500 |\n",
       "| 6 | 6 | 2011-01-06 | Winter | 0 | 1 | 0 | 4 | yes | 1 | 0.204348 | 0.233209 | 0.518261 | 0.0895652 |  88 | 1518 | 1606 | 0.9452055 |\n",
       "\n"
      ],
      "text/plain": [
       "  instant dteday     season yr mnth holiday weekday workingday weathersit\n",
       "1 1       2011-01-01 Winter 0  1    0       6       no         2         \n",
       "2 2       2011-01-02 Winter 0  1    0       0       no         2         \n",
       "3 3       2011-01-03 Winter 0  1    0       1       yes        1         \n",
       "4 4       2011-01-04 Winter 0  1    0       2       yes        1         \n",
       "5 5       2011-01-05 Winter 0  1    0       3       yes        1         \n",
       "6 6       2011-01-06 Winter 0  1    0       4       yes        1         \n",
       "  temp     atemp    hum      windspeed casual registered cnt  prop     \n",
       "1 0.344167 0.363625 0.805833 0.1604460 331     654        985 0.6639594\n",
       "2 0.363478 0.353739 0.696087 0.2485390 131     670        801 0.8364544\n",
       "3 0.196364 0.189405 0.437273 0.2483090 120    1229       1349 0.9110452\n",
       "4 0.200000 0.212122 0.590435 0.1602960 108    1454       1562 0.9308579\n",
       "5 0.226957 0.229270 0.436957 0.1869000  82    1518       1600 0.9487500\n",
       "6 0.204348 0.233209 0.518261 0.0895652  88    1518       1606 0.9452055"
      ]
     },
     "metadata": {},
     "output_type": "display_data"
    }
   ],
   "source": [
    "# Convert from csv to a dataframe\n",
    "weather_data <- read.csv(\"data/day.csv\")\n",
    "\n",
    "# Factorizing\n",
    "weather_data$workingday <- as_factor(weather_data$workingday)\n",
    "weather_data$season <- as_factor(weather_data$season)\n",
    "\n",
    "# Converting factors from int to string form\n",
    "levels(weather_data$season) <- c(\"Winter\",\"Spring\",\"Summer\",\"Fall\")\n",
    "levels(weather_data$workingday) <- c(\"no\",\"yes\")\n",
    "\n",
    "# Mutating proportion column\n",
    "weather_mutated_data <- weather_data %>% mutate(prop = registered/cnt)\n",
    "\n",
    "head(weather_mutated_data)\n"
   ]
  },
  {
   "cell_type": "markdown",
   "id": "f1944493-0329-433d-a66f-a3af3ffbbfa5",
   "metadata": {},
   "source": [
    "We then filter the datasets to include only relevant data, and partition the datasets into summer and winter datasets. "
   ]
  },
  {
   "cell_type": "code",
   "execution_count": 111,
   "id": "d2377546-be96-4987-a78c-54ba17193c6e",
   "metadata": {},
   "outputs": [
    {
     "data": {
      "text/html": [
       "<table class=\"dataframe\">\n",
       "<caption>A data.frame: 6 × 3</caption>\n",
       "<thead>\n",
       "\t<tr><th></th><th scope=col>workingday</th><th scope=col>prop</th><th scope=col>season</th></tr>\n",
       "\t<tr><th></th><th scope=col>&lt;fct&gt;</th><th scope=col>&lt;dbl&gt;</th><th scope=col>&lt;fct&gt;</th></tr>\n",
       "</thead>\n",
       "<tbody>\n",
       "\t<tr><th scope=row>1</th><td>no </td><td>0.6639594</td><td>Winter</td></tr>\n",
       "\t<tr><th scope=row>2</th><td>no </td><td>0.8364544</td><td>Winter</td></tr>\n",
       "\t<tr><th scope=row>3</th><td>yes</td><td>0.9110452</td><td>Winter</td></tr>\n",
       "\t<tr><th scope=row>4</th><td>yes</td><td>0.9308579</td><td>Winter</td></tr>\n",
       "\t<tr><th scope=row>5</th><td>yes</td><td>0.9487500</td><td>Winter</td></tr>\n",
       "\t<tr><th scope=row>6</th><td>yes</td><td>0.9452055</td><td>Winter</td></tr>\n",
       "</tbody>\n",
       "</table>\n"
      ],
      "text/latex": [
       "A data.frame: 6 × 3\n",
       "\\begin{tabular}{r|lll}\n",
       "  & workingday & prop & season\\\\\n",
       "  & <fct> & <dbl> & <fct>\\\\\n",
       "\\hline\n",
       "\t1 & no  & 0.6639594 & Winter\\\\\n",
       "\t2 & no  & 0.8364544 & Winter\\\\\n",
       "\t3 & yes & 0.9110452 & Winter\\\\\n",
       "\t4 & yes & 0.9308579 & Winter\\\\\n",
       "\t5 & yes & 0.9487500 & Winter\\\\\n",
       "\t6 & yes & 0.9452055 & Winter\\\\\n",
       "\\end{tabular}\n"
      ],
      "text/markdown": [
       "\n",
       "A data.frame: 6 × 3\n",
       "\n",
       "| <!--/--> | workingday &lt;fct&gt; | prop &lt;dbl&gt; | season &lt;fct&gt; |\n",
       "|---|---|---|---|\n",
       "| 1 | no  | 0.6639594 | Winter |\n",
       "| 2 | no  | 0.8364544 | Winter |\n",
       "| 3 | yes | 0.9110452 | Winter |\n",
       "| 4 | yes | 0.9308579 | Winter |\n",
       "| 5 | yes | 0.9487500 | Winter |\n",
       "| 6 | yes | 0.9452055 | Winter |\n",
       "\n"
      ],
      "text/plain": [
       "  workingday prop      season\n",
       "1 no         0.6639594 Winter\n",
       "2 no         0.8364544 Winter\n",
       "3 yes        0.9110452 Winter\n",
       "4 yes        0.9308579 Winter\n",
       "5 yes        0.9487500 Winter\n",
       "6 yes        0.9452055 Winter"
      ]
     },
     "metadata": {},
     "output_type": "display_data"
    },
    {
     "data": {
      "text/html": [
       "<table class=\"dataframe\">\n",
       "<caption>A data.frame: 6 × 3</caption>\n",
       "<thead>\n",
       "\t<tr><th></th><th scope=col>workingday</th><th scope=col>prop</th><th scope=col>season</th></tr>\n",
       "\t<tr><th></th><th scope=col>&lt;fct&gt;</th><th scope=col>&lt;dbl&gt;</th><th scope=col>&lt;fct&gt;</th></tr>\n",
       "</thead>\n",
       "<tbody>\n",
       "\t<tr><th scope=row>1</th><td>yes</td><td>0.8399173</td><td>Summer</td></tr>\n",
       "\t<tr><th scope=row>2</th><td>yes</td><td>0.8533393</td><td>Summer</td></tr>\n",
       "\t<tr><th scope=row>3</th><td>yes</td><td>0.8442589</td><td>Summer</td></tr>\n",
       "\t<tr><th scope=row>4</th><td>yes</td><td>0.8058505</td><td>Summer</td></tr>\n",
       "\t<tr><th scope=row>5</th><td>no </td><td>0.6574394</td><td>Summer</td></tr>\n",
       "\t<tr><th scope=row>6</th><td>no </td><td>0.6380773</td><td>Summer</td></tr>\n",
       "</tbody>\n",
       "</table>\n"
      ],
      "text/latex": [
       "A data.frame: 6 × 3\n",
       "\\begin{tabular}{r|lll}\n",
       "  & workingday & prop & season\\\\\n",
       "  & <fct> & <dbl> & <fct>\\\\\n",
       "\\hline\n",
       "\t1 & yes & 0.8399173 & Summer\\\\\n",
       "\t2 & yes & 0.8533393 & Summer\\\\\n",
       "\t3 & yes & 0.8442589 & Summer\\\\\n",
       "\t4 & yes & 0.8058505 & Summer\\\\\n",
       "\t5 & no  & 0.6574394 & Summer\\\\\n",
       "\t6 & no  & 0.6380773 & Summer\\\\\n",
       "\\end{tabular}\n"
      ],
      "text/markdown": [
       "\n",
       "A data.frame: 6 × 3\n",
       "\n",
       "| <!--/--> | workingday &lt;fct&gt; | prop &lt;dbl&gt; | season &lt;fct&gt; |\n",
       "|---|---|---|---|\n",
       "| 1 | yes | 0.8399173 | Summer |\n",
       "| 2 | yes | 0.8533393 | Summer |\n",
       "| 3 | yes | 0.8442589 | Summer |\n",
       "| 4 | yes | 0.8058505 | Summer |\n",
       "| 5 | no  | 0.6574394 | Summer |\n",
       "| 6 | no  | 0.6380773 | Summer |\n",
       "\n"
      ],
      "text/plain": [
       "  workingday prop      season\n",
       "1 yes        0.8399173 Summer\n",
       "2 yes        0.8533393 Summer\n",
       "3 yes        0.8442589 Summer\n",
       "4 yes        0.8058505 Summer\n",
       "5 no         0.6574394 Summer\n",
       "6 no         0.6380773 Summer"
      ]
     },
     "metadata": {},
     "output_type": "display_data"
    }
   ],
   "source": [
    "## Filter and select the data in winter\n",
    "registered_prop_winter <-\n",
    "    weather_mutated_data %>%\n",
    "    filter(season == \"Winter\") %>%\n",
    "    select(workingday, prop, season)\n",
    "\n",
    "head(registered_prop_winter)\n",
    "\n",
    "## Filter and select the data in summer\n",
    "registered_prop_summer <-\n",
    "    weather_mutated_data %>%\n",
    "    filter(season == \"Summer\") %>%\n",
    "    select(workingday, prop, season)\n",
    "\n",
    "head(registered_prop_summer)"
   ]
  },
  {
   "cell_type": "markdown",
   "id": "7a016fac-978c-4a2a-867b-98d123ea3b0e",
   "metadata": {},
   "source": [
    "We then collect location and scale parameters for each dataset to use for the asymptotic analysis below. We use pivot_wider to make the values more accessible."
   ]
  },
  {
   "cell_type": "code",
   "execution_count": 112,
   "id": "00e81d65-118b-4d8b-810c-2e483dfe9932",
   "metadata": {},
   "outputs": [
    {
     "data": {
      "text/html": [
       "<table class=\"dataframe\">\n",
       "<caption>A tibble: 1 × 7</caption>\n",
       "<thead>\n",
       "\t<tr><th scope=col>n_no</th><th scope=col>n_yes</th><th scope=col>sd_no</th><th scope=col>sd_yes</th><th scope=col>mean_no</th><th scope=col>mean_yes</th><th scope=col>mean_diff</th></tr>\n",
       "\t<tr><th scope=col>&lt;int&gt;</th><th scope=col>&lt;int&gt;</th><th scope=col>&lt;dbl&gt;</th><th scope=col>&lt;dbl&gt;</th><th scope=col>&lt;dbl&gt;</th><th scope=col>&lt;dbl&gt;</th><th scope=col>&lt;dbl&gt;</th></tr>\n",
       "</thead>\n",
       "<tbody>\n",
       "\t<tr><td>61</td><td>120</td><td>0.1083181</td><td>0.04706721</td><td>0.7871169</td><td>0.9219079</td><td>0.134791</td></tr>\n",
       "</tbody>\n",
       "</table>\n"
      ],
      "text/latex": [
       "A tibble: 1 × 7\n",
       "\\begin{tabular}{lllllll}\n",
       " n\\_no & n\\_yes & sd\\_no & sd\\_yes & mean\\_no & mean\\_yes & mean\\_diff\\\\\n",
       " <int> & <int> & <dbl> & <dbl> & <dbl> & <dbl> & <dbl>\\\\\n",
       "\\hline\n",
       "\t 61 & 120 & 0.1083181 & 0.04706721 & 0.7871169 & 0.9219079 & 0.134791\\\\\n",
       "\\end{tabular}\n"
      ],
      "text/markdown": [
       "\n",
       "A tibble: 1 × 7\n",
       "\n",
       "| n_no &lt;int&gt; | n_yes &lt;int&gt; | sd_no &lt;dbl&gt; | sd_yes &lt;dbl&gt; | mean_no &lt;dbl&gt; | mean_yes &lt;dbl&gt; | mean_diff &lt;dbl&gt; |\n",
       "|---|---|---|---|---|---|---|\n",
       "| 61 | 120 | 0.1083181 | 0.04706721 | 0.7871169 | 0.9219079 | 0.134791 |\n",
       "\n"
      ],
      "text/plain": [
       "  n_no n_yes sd_no     sd_yes     mean_no   mean_yes  mean_diff\n",
       "1 61   120   0.1083181 0.04706721 0.7871169 0.9219079 0.134791 "
      ]
     },
     "metadata": {},
     "output_type": "display_data"
    },
    {
     "data": {
      "text/html": [
       "<table class=\"dataframe\">\n",
       "<caption>A tibble: 1 × 7</caption>\n",
       "<thead>\n",
       "\t<tr><th scope=col>n_no</th><th scope=col>n_yes</th><th scope=col>sd_no</th><th scope=col>sd_yes</th><th scope=col>mean_no</th><th scope=col>mean_yes</th><th scope=col>mean_diff</th></tr>\n",
       "\t<tr><th scope=col>&lt;int&gt;</th><th scope=col>&lt;int&gt;</th><th scope=col>&lt;dbl&gt;</th><th scope=col>&lt;dbl&gt;</th><th scope=col>&lt;dbl&gt;</th><th scope=col>&lt;dbl&gt;</th><th scope=col>&lt;dbl&gt;</th></tr>\n",
       "</thead>\n",
       "<tbody>\n",
       "\t<tr><td>57</td><td>131</td><td>0.05919498</td><td>0.02988689</td><td>0.6578987</td><td>0.8421875</td><td>0.1842887</td></tr>\n",
       "</tbody>\n",
       "</table>\n"
      ],
      "text/latex": [
       "A tibble: 1 × 7\n",
       "\\begin{tabular}{lllllll}\n",
       " n\\_no & n\\_yes & sd\\_no & sd\\_yes & mean\\_no & mean\\_yes & mean\\_diff\\\\\n",
       " <int> & <int> & <dbl> & <dbl> & <dbl> & <dbl> & <dbl>\\\\\n",
       "\\hline\n",
       "\t 57 & 131 & 0.05919498 & 0.02988689 & 0.6578987 & 0.8421875 & 0.1842887\\\\\n",
       "\\end{tabular}\n"
      ],
      "text/markdown": [
       "\n",
       "A tibble: 1 × 7\n",
       "\n",
       "| n_no &lt;int&gt; | n_yes &lt;int&gt; | sd_no &lt;dbl&gt; | sd_yes &lt;dbl&gt; | mean_no &lt;dbl&gt; | mean_yes &lt;dbl&gt; | mean_diff &lt;dbl&gt; |\n",
       "|---|---|---|---|---|---|---|\n",
       "| 57 | 131 | 0.05919498 | 0.02988689 | 0.6578987 | 0.8421875 | 0.1842887 |\n",
       "\n"
      ],
      "text/plain": [
       "  n_no n_yes sd_no      sd_yes     mean_no   mean_yes  mean_diff\n",
       "1 57   131   0.05919498 0.02988689 0.6578987 0.8421875 0.1842887"
      ]
     },
     "metadata": {},
     "output_type": "display_data"
    }
   ],
   "source": [
    "# Summary parameter for summer\n",
    "sample_summary_summer <-\n",
    "    registered_prop_summer %>%\n",
    "    group_by(workingday) %>%\n",
    "    summarize(mean = mean(prop),\n",
    "              n = n(),\n",
    "              sd = sd(prop),\n",
    "              `.groups` = \"drop\") %>%\n",
    "    pivot_wider(names_from = workingday, values_from = c(n, sd, mean)) %>% \n",
    "    mutate(mean_diff = mean_yes - mean_no)\n",
    "\n",
    "# Summary parameter for winter\n",
    "sample_summary_winter <-\n",
    "    registered_prop_winter %>%\n",
    "    group_by(workingday) %>%\n",
    "    summarize(mean = mean(prop),\n",
    "              n = n(),\n",
    "              sd = sd(prop),\n",
    "              `.groups` = \"drop\") %>%\n",
    "    pivot_wider(names_from = workingday, values_from = c(n, sd, mean)) %>% \n",
    "    mutate(mean_diff = mean_yes - mean_no)\n",
    "\n",
    "sample_summary_winter\n",
    "sample_summary_summer"
   ]
  },
  {
   "cell_type": "markdown",
   "id": "4e809fb2-ef95-401c-81b3-9a88ad5ea431",
   "metadata": {},
   "source": [
    "We finally plot registered and non-registered user usage proportions with two boxplots to visualize any differences between the groups."
   ]
  },
  {
   "cell_type": "code",
   "execution_count": 153,
   "id": "06a94764-4746-422b-8548-373f0874d196",
   "metadata": {},
   "outputs": [
    {
     "data": {
      "image/png": "[encoded data removed]",
      "text/plain": [
       "plot without title"
      ]
     },
     "metadata": {
      "image/png": {
       "height": 480,
       "width": 1200
      }
     },
     "output_type": "display_data"
    }
   ],
   "source": [
    "# Setting the scale\n",
    "options(repr.plot.width = 20, repr.plot.height = 8)\n",
    "\n",
    "# Creating the two boxplots\n",
    "boxplots <- \n",
    "    weather_mutated_data %>%  \n",
    "    ggplot(aes(x = workingday, y = prop)) + \n",
    "    geom_boxplot() + \n",
    "    xlab(\"Working Day\") +\n",
    "    ylab(\"Proportion of Registered User\") +\n",
    "ggtitle(\"Fig. 1: Boxplots of Proportion of Registered User\")+\n",
    "theme(plot.title = element_text(size = 20), axis.title=element_text(size=15), text = element_text(size=15))\n",
    "\n",
    "boxplots"
   ]
  },
  {
   "cell_type": "markdown",
   "id": "8f3acfb2-780f-46d3-9e56-d020ec887853",
   "metadata": {
    "tags": []
   },
   "source": [
    "## Methods: Hypothesis Testing, Asymptotics, and Confidence Intervals"
   ]
  },
  {
   "cell_type": "markdown",
   "id": "2c799c46-b6d4-49ac-8342-43cab51ea142",
   "metadata": {
    "tags": []
   },
   "source": [
    "### Hypothesis Testing"
   ]
  },
  {
   "cell_type": "markdown",
   "id": "ae8b48a8-607c-4dcd-b4f4-a537686afd62",
   "metadata": {},
   "source": [
    "We conduct the hypothesis test for both seasons simulatenously for simplicity and to better understand differences. For the test statistic, we only use specify() and calculate()."
   ]
  },
  {
   "cell_type": "code",
   "execution_count": 163,
   "id": "2d0f798c-b783-49cd-80f8-13e0277b8b4c",
   "metadata": {},
   "outputs": [
    {
     "data": {
      "text/html": [
       "<table class=\"dataframe\">\n",
       "<caption>A tibble: 1 × 1</caption>\n",
       "<thead>\n",
       "\t<tr><th scope=col>stat</th></tr>\n",
       "\t<tr><th scope=col>&lt;dbl&gt;</th></tr>\n",
       "</thead>\n",
       "<tbody>\n",
       "\t<tr><td>0.134791</td></tr>\n",
       "</tbody>\n",
       "</table>\n"
      ],
      "text/latex": [
       "A tibble: 1 × 1\n",
       "\\begin{tabular}{l}\n",
       " stat\\\\\n",
       " <dbl>\\\\\n",
       "\\hline\n",
       "\t 0.134791\\\\\n",
       "\\end{tabular}\n"
      ],
      "text/markdown": [
       "\n",
       "A tibble: 1 × 1\n",
       "\n",
       "| stat &lt;dbl&gt; |\n",
       "|---|\n",
       "| 0.134791 |\n",
       "\n"
      ],
      "text/plain": [
       "  stat    \n",
       "1 0.134791"
      ]
     },
     "metadata": {},
     "output_type": "display_data"
    },
    {
     "data": {
      "text/html": [
       "<table class=\"dataframe\">\n",
       "<caption>A tibble: 1 × 1</caption>\n",
       "<thead>\n",
       "\t<tr><th scope=col>stat</th></tr>\n",
       "\t<tr><th scope=col>&lt;dbl&gt;</th></tr>\n",
       "</thead>\n",
       "<tbody>\n",
       "\t<tr><td>0.1842887</td></tr>\n",
       "</tbody>\n",
       "</table>\n"
      ],
      "text/latex": [
       "A tibble: 1 × 1\n",
       "\\begin{tabular}{l}\n",
       " stat\\\\\n",
       " <dbl>\\\\\n",
       "\\hline\n",
       "\t 0.1842887\\\\\n",
       "\\end{tabular}\n"
      ],
      "text/markdown": [
       "\n",
       "A tibble: 1 × 1\n",
       "\n",
       "| stat &lt;dbl&gt; |\n",
       "|---|\n",
       "| 0.1842887 |\n",
       "\n"
      ],
      "text/plain": [
       "  stat     \n",
       "1 0.1842887"
      ]
     },
     "metadata": {},
     "output_type": "display_data"
    }
   ],
   "source": [
    "## Calculate the test statistics\n",
    "test_stat_winter <-\n",
    "    registered_prop_winter %>%\n",
    "    specify(formula = prop ~ workingday) %>%\n",
    "    calculate(stat = \"diff in means\", order = c(\"yes\", \"no\")) \n",
    "\n",
    "test_stat_summer <-\n",
    "    registered_prop_summer %>%\n",
    "    specify(formula = prop ~ workingday) %>%\n",
    "    calculate(stat = \"diff in means\", order = c(\"yes\", \"no\"))\n",
    "\n",
    "test_stat_winter\n",
    "test_stat_summer"
   ]
  },
  {
   "cell_type": "markdown",
   "id": "1fefb0ae-b1ef-4671-985e-6472193882c2",
   "metadata": {},
   "source": [
    "We then set the seed as 100 and build the null model using specify(), hypothesize(), generate(), and calculate(). We set reps to 1000 to generate 1000 replicates or samples."
   ]
  },
  {
   "cell_type": "code",
   "execution_count": 115,
   "id": "a2254169-2150-4416-a80c-b82ced0ba93f",
   "metadata": {},
   "outputs": [
    {
     "data": {
      "text/html": [
       "<table class=\"dataframe\">\n",
       "<caption>A tibble: 6 × 2</caption>\n",
       "<thead>\n",
       "\t<tr><th scope=col>replicate</th><th scope=col>stat</th></tr>\n",
       "\t<tr><th scope=col>&lt;int&gt;</th><th scope=col>&lt;dbl&gt;</th></tr>\n",
       "</thead>\n",
       "<tbody>\n",
       "\t<tr><td>1</td><td> 0.002491569</td></tr>\n",
       "\t<tr><td>2</td><td> 0.005633204</td></tr>\n",
       "\t<tr><td>3</td><td>-0.012072301</td></tr>\n",
       "\t<tr><td>4</td><td> 0.010255962</td></tr>\n",
       "\t<tr><td>5</td><td> 0.028834272</td></tr>\n",
       "\t<tr><td>6</td><td> 0.008587466</td></tr>\n",
       "</tbody>\n",
       "</table>\n"
      ],
      "text/latex": [
       "A tibble: 6 × 2\n",
       "\\begin{tabular}{ll}\n",
       " replicate & stat\\\\\n",
       " <int> & <dbl>\\\\\n",
       "\\hline\n",
       "\t 1 &  0.002491569\\\\\n",
       "\t 2 &  0.005633204\\\\\n",
       "\t 3 & -0.012072301\\\\\n",
       "\t 4 &  0.010255962\\\\\n",
       "\t 5 &  0.028834272\\\\\n",
       "\t 6 &  0.008587466\\\\\n",
       "\\end{tabular}\n"
      ],
      "text/markdown": [
       "\n",
       "A tibble: 6 × 2\n",
       "\n",
       "| replicate &lt;int&gt; | stat &lt;dbl&gt; |\n",
       "|---|---|\n",
       "| 1 |  0.002491569 |\n",
       "| 2 |  0.005633204 |\n",
       "| 3 | -0.012072301 |\n",
       "| 4 |  0.010255962 |\n",
       "| 5 |  0.028834272 |\n",
       "| 6 |  0.008587466 |\n",
       "\n"
      ],
      "text/plain": [
       "  replicate stat        \n",
       "1 1          0.002491569\n",
       "2 2          0.005633204\n",
       "3 3         -0.012072301\n",
       "4 4          0.010255962\n",
       "5 5          0.028834272\n",
       "6 6          0.008587466"
      ]
     },
     "metadata": {},
     "output_type": "display_data"
    },
    {
     "data": {
      "text/html": [
       "<table class=\"dataframe\">\n",
       "<caption>A tibble: 6 × 2</caption>\n",
       "<thead>\n",
       "\t<tr><th scope=col>replicate</th><th scope=col>stat</th></tr>\n",
       "\t<tr><th scope=col>&lt;int&gt;</th><th scope=col>&lt;dbl&gt;</th></tr>\n",
       "</thead>\n",
       "<tbody>\n",
       "\t<tr><td>1</td><td> 0.011273418</td></tr>\n",
       "\t<tr><td>2</td><td>-0.007836771</td></tr>\n",
       "\t<tr><td>3</td><td>-0.004336829</td></tr>\n",
       "\t<tr><td>4</td><td>-0.020817791</td></tr>\n",
       "\t<tr><td>5</td><td> 0.010187444</td></tr>\n",
       "\t<tr><td>6</td><td>-0.003194765</td></tr>\n",
       "</tbody>\n",
       "</table>\n"
      ],
      "text/latex": [
       "A tibble: 6 × 2\n",
       "\\begin{tabular}{ll}\n",
       " replicate & stat\\\\\n",
       " <int> & <dbl>\\\\\n",
       "\\hline\n",
       "\t 1 &  0.011273418\\\\\n",
       "\t 2 & -0.007836771\\\\\n",
       "\t 3 & -0.004336829\\\\\n",
       "\t 4 & -0.020817791\\\\\n",
       "\t 5 &  0.010187444\\\\\n",
       "\t 6 & -0.003194765\\\\\n",
       "\\end{tabular}\n"
      ],
      "text/markdown": [
       "\n",
       "A tibble: 6 × 2\n",
       "\n",
       "| replicate &lt;int&gt; | stat &lt;dbl&gt; |\n",
       "|---|---|\n",
       "| 1 |  0.011273418 |\n",
       "| 2 | -0.007836771 |\n",
       "| 3 | -0.004336829 |\n",
       "| 4 | -0.020817791 |\n",
       "| 5 |  0.010187444 |\n",
       "| 6 | -0.003194765 |\n",
       "\n"
      ],
      "text/plain": [
       "  replicate stat        \n",
       "1 1          0.011273418\n",
       "2 2         -0.007836771\n",
       "3 3         -0.004336829\n",
       "4 4         -0.020817791\n",
       "5 5          0.010187444\n",
       "6 6         -0.003194765"
      ]
     },
     "metadata": {},
     "output_type": "display_data"
    }
   ],
   "source": [
    "## Setting the seed\n",
    "set.seed(100)\n",
    "\n",
    "## Creating the null model for the winter dataset\n",
    "null_model_winter <-\n",
    "    registered_prop_winter %>%\n",
    "    specify(formula = prop ~ workingday) %>%\n",
    "    hypothesize(null = \"independence\") %>%\n",
    "    generate(reps = 1000, type = \"permute\") %>%\n",
    "    calculate(stat = \"diff in means\", order = c(\"yes\", \"no\"))\n",
    "\n",
    "## Creating the null model for the summer dataset\n",
    "null_model_summer <-\n",
    "    registered_prop_summer %>%\n",
    "    specify(formula = prop ~ workingday) %>%\n",
    "    hypothesize(null = \"independence\") %>%\n",
    "    generate(reps = 1000, type = \"permute\") %>%\n",
    "    calculate(stat = \"diff in means\", order = c(\"yes\", \"no\"))\n",
    "\n",
    "head(null_model_summer)\n",
    "head(null_model_winter)"
   ]
  },
  {
   "cell_type": "markdown",
   "id": "a65bd3a0-ca78-47b6-9dd0-e67af5f78fab",
   "metadata": {},
   "source": [
    "With the null model and test statistics for both summer and winter, we can calculate the P-value for each using get_p_value(). We set the direction to two-sided as our alternate hypothesis does not specify direction (\"higher than\", \"lower than\") and only seeks difference. "
   ]
  },
  {
   "cell_type": "code",
   "execution_count": 116,
   "id": "2eb6bc12-a78b-4bc0-8c49-ff7079b721e2",
   "metadata": {},
   "outputs": [
    {
     "name": "stderr",
     "output_type": "stream",
     "text": [
      "Warning message:\n",
      "“Please be cautious in reporting a p-value of 0. This result is an approximation based on the number of `reps` chosen in the `generate()` step. See `?get_p_value()` for more information.”\n",
      "Warning message:\n",
      "“Please be cautious in reporting a p-value of 0. This result is an approximation based on the number of `reps` chosen in the `generate()` step. See `?get_p_value()` for more information.”\n"
     ]
    },
    {
     "data": {
      "text/html": [
       "<table class=\"dataframe\">\n",
       "<caption>A tibble: 1 × 1</caption>\n",
       "<thead>\n",
       "\t<tr><th scope=col>p_value</th></tr>\n",
       "\t<tr><th scope=col>&lt;dbl&gt;</th></tr>\n",
       "</thead>\n",
       "<tbody>\n",
       "\t<tr><td>0</td></tr>\n",
       "</tbody>\n",
       "</table>\n"
      ],
      "text/latex": [
       "A tibble: 1 × 1\n",
       "\\begin{tabular}{l}\n",
       " p\\_value\\\\\n",
       " <dbl>\\\\\n",
       "\\hline\n",
       "\t 0\\\\\n",
       "\\end{tabular}\n"
      ],
      "text/markdown": [
       "\n",
       "A tibble: 1 × 1\n",
       "\n",
       "| p_value &lt;dbl&gt; |\n",
       "|---|\n",
       "| 0 |\n",
       "\n"
      ],
      "text/plain": [
       "  p_value\n",
       "1 0      "
      ]
     },
     "metadata": {},
     "output_type": "display_data"
    },
    {
     "data": {
      "text/html": [
       "<table class=\"dataframe\">\n",
       "<caption>A tibble: 1 × 1</caption>\n",
       "<thead>\n",
       "\t<tr><th scope=col>p_value</th></tr>\n",
       "\t<tr><th scope=col>&lt;dbl&gt;</th></tr>\n",
       "</thead>\n",
       "<tbody>\n",
       "\t<tr><td>0</td></tr>\n",
       "</tbody>\n",
       "</table>\n"
      ],
      "text/latex": [
       "A tibble: 1 × 1\n",
       "\\begin{tabular}{l}\n",
       " p\\_value\\\\\n",
       " <dbl>\\\\\n",
       "\\hline\n",
       "\t 0\\\\\n",
       "\\end{tabular}\n"
      ],
      "text/markdown": [
       "\n",
       "A tibble: 1 × 1\n",
       "\n",
       "| p_value &lt;dbl&gt; |\n",
       "|---|\n",
       "| 0 |\n",
       "\n"
      ],
      "text/plain": [
       "  p_value\n",
       "1 0      "
      ]
     },
     "metadata": {},
     "output_type": "display_data"
    }
   ],
   "source": [
    "## Calculating the \n",
    "p_value_winter <- \n",
    "    null_model_winter %>%\n",
    "    get_p_value(obs_stat = test_stat_winter, direction = \"two_sided\")\n",
    "\n",
    "p_value_summer <- \n",
    "    null_model_summer %>%\n",
    "    get_p_value(obs_stat = test_stat_summer, direction = \"two_sided\")\n",
    "\n",
    "p_value_winter\n",
    "p_value_summer"
   ]
  },
  {
   "cell_type": "markdown",
   "id": "267e0bb5-e52c-40cd-8011-7ab55e703778",
   "metadata": {},
   "source": [
    "We then find both p-values to equal 0 indicating statistical significance at every possible significant level."
   ]
  },
  {
   "cell_type": "markdown",
   "id": "c8dfd22b-c6f3-46d5-990e-48f326f042db",
   "metadata": {},
   "source": [
    "We then plot the null model and p-value for both the winter and summer datasets using visualize() and shade_p_value()."
   ]
  },
  {
   "cell_type": "code",
   "execution_count": 154,
   "id": "5cc45a41-98dd-476d-b103-05ef98c1a1db",
   "metadata": {},
   "outputs": [
    {
     "data": {
      "image/png": "[encoded data removed]",
      "text/plain": [
       "plot without title"
      ]
     },
     "metadata": {
      "image/png": {
       "height": 480,
       "width": 1200
      }
     },
     "output_type": "display_data"
    },
    {
     "data": {
      "image/png": "[encoded data removed]",
      "text/plain": [
       "plot without title"
      ]
     },
     "metadata": {
      "image/png": {
       "height": 480,
       "width": 1200
      }
     },
     "output_type": "display_data"
    }
   ],
   "source": [
    "## Visualizing the winter dataset\n",
    "registered_plot_winter <-\n",
    "    null_model_winter %>%\n",
    "    visualize() +\n",
    "    shade_p_value(obs_stat = test_stat_winter, direction = \"two_sided\") +\n",
    "    labs(x = \"Difference in Means\") +\n",
    "    ggtitle(\"Fig. 2: Null Distribution and p-value for Winter\") + \n",
    "    theme(plot.title = element_text(size = 20), axis.title=element_text(size=15), text = element_text(size=15))\n",
    "\n",
    "## Visualizing the summer dataset\n",
    "registered_plot_summer <-\n",
    "    null_model_summer %>%\n",
    "    visualize() +\n",
    "    shade_p_value(obs_stat = test_stat_summer, direction = \"two_sided\") +\n",
    "    labs(x = \"Difference in Means\") +\n",
    "    ggtitle(\"Fig. 3: Null Distribution and p-value for Summer\") + \n",
    "    theme(plot.title = element_text(size = 20), axis.title=element_text(size=15), text = element_text(size=15))\n",
    "\n",
    "registered_plot_winter\n",
    "registered_plot_summer"
   ]
  },
  {
   "cell_type": "markdown",
   "id": "de5190ca-96e2-458c-8888-8086d94af28d",
   "metadata": {
    "jp-MarkdownHeadingCollapsed": true,
    "tags": []
   },
   "source": [
    "### Asymptotics"
   ]
  },
  {
   "cell_type": "markdown",
   "id": "01f0327e-816d-454b-9e3d-a15ce56350d4",
   "metadata": {},
   "source": [
    "For the asymptotic approach, we need to use the t-distribution. Therefore, we also need to check the assumptions for t-distribution and ensure they are met for both summer and winter datasets. \n",
    "\n",
    "1. <b>The population is normally distributed</b>: We do not have full access to the population, so we cannot assume the population is normally distributed.\n",
    "2. <b>The population is not normally distributed</b>: We need to check if the Central Limit Theorem is valid here. Both datasets are large enough that each of them exceed size 50."
   ]
  },
  {
   "cell_type": "markdown",
   "id": "ded9e7bf-20a2-42a4-96ca-d74886d3977f",
   "metadata": {},
   "source": [
    "With the assumptions met for both datasets, we mutate the summary parameters found in the preliminary analysis to include the difference between means and standard error of the null model. "
   ]
  },
  {
   "cell_type": "code",
   "execution_count": 118,
   "id": "5fd47f3b-6473-409a-8696-a7d225f84ee8",
   "metadata": {},
   "outputs": [
    {
     "data": {
      "text/html": [
       "<table class=\"dataframe\">\n",
       "<caption>A tibble: 1 × 9</caption>\n",
       "<thead>\n",
       "\t<tr><th scope=col>n_no</th><th scope=col>n_yes</th><th scope=col>sd_no</th><th scope=col>sd_yes</th><th scope=col>mean_no</th><th scope=col>mean_yes</th><th scope=col>mean_diff</th><th scope=col>null_std_error</th><th scope=col>test_stat</th></tr>\n",
       "\t<tr><th scope=col>&lt;int&gt;</th><th scope=col>&lt;int&gt;</th><th scope=col>&lt;dbl&gt;</th><th scope=col>&lt;dbl&gt;</th><th scope=col>&lt;dbl&gt;</th><th scope=col>&lt;dbl&gt;</th><th scope=col>&lt;dbl&gt;</th><th scope=col>&lt;dbl&gt;</th><th scope=col>&lt;dbl&gt;</th></tr>\n",
       "</thead>\n",
       "<tbody>\n",
       "\t<tr><td>61</td><td>120</td><td>0.1083181</td><td>0.04706721</td><td>0.7871169</td><td>0.9219079</td><td>0.134791</td><td>0.01451902</td><td>9.283751</td></tr>\n",
       "</tbody>\n",
       "</table>\n"
      ],
      "text/latex": [
       "A tibble: 1 × 9\n",
       "\\begin{tabular}{lllllllll}\n",
       " n\\_no & n\\_yes & sd\\_no & sd\\_yes & mean\\_no & mean\\_yes & mean\\_diff & null\\_std\\_error & test\\_stat\\\\\n",
       " <int> & <int> & <dbl> & <dbl> & <dbl> & <dbl> & <dbl> & <dbl> & <dbl>\\\\\n",
       "\\hline\n",
       "\t 61 & 120 & 0.1083181 & 0.04706721 & 0.7871169 & 0.9219079 & 0.134791 & 0.01451902 & 9.283751\\\\\n",
       "\\end{tabular}\n"
      ],
      "text/markdown": [
       "\n",
       "A tibble: 1 × 9\n",
       "\n",
       "| n_no &lt;int&gt; | n_yes &lt;int&gt; | sd_no &lt;dbl&gt; | sd_yes &lt;dbl&gt; | mean_no &lt;dbl&gt; | mean_yes &lt;dbl&gt; | mean_diff &lt;dbl&gt; | null_std_error &lt;dbl&gt; | test_stat &lt;dbl&gt; |\n",
       "|---|---|---|---|---|---|---|---|---|\n",
       "| 61 | 120 | 0.1083181 | 0.04706721 | 0.7871169 | 0.9219079 | 0.134791 | 0.01451902 | 9.283751 |\n",
       "\n"
      ],
      "text/plain": [
       "  n_no n_yes sd_no     sd_yes     mean_no   mean_yes  mean_diff null_std_error\n",
       "1 61   120   0.1083181 0.04706721 0.7871169 0.9219079 0.134791  0.01451902    \n",
       "  test_stat\n",
       "1 9.283751 "
      ]
     },
     "metadata": {},
     "output_type": "display_data"
    },
    {
     "data": {
      "text/html": [
       "<table class=\"dataframe\">\n",
       "<caption>A tibble: 1 × 9</caption>\n",
       "<thead>\n",
       "\t<tr><th scope=col>n_no</th><th scope=col>n_yes</th><th scope=col>sd_no</th><th scope=col>sd_yes</th><th scope=col>mean_no</th><th scope=col>mean_yes</th><th scope=col>mean_diff</th><th scope=col>null_std_error</th><th scope=col>test_stat</th></tr>\n",
       "\t<tr><th scope=col>&lt;int&gt;</th><th scope=col>&lt;int&gt;</th><th scope=col>&lt;dbl&gt;</th><th scope=col>&lt;dbl&gt;</th><th scope=col>&lt;dbl&gt;</th><th scope=col>&lt;dbl&gt;</th><th scope=col>&lt;dbl&gt;</th><th scope=col>&lt;dbl&gt;</th><th scope=col>&lt;dbl&gt;</th></tr>\n",
       "</thead>\n",
       "<tbody>\n",
       "\t<tr><td>57</td><td>131</td><td>0.05919498</td><td>0.02988689</td><td>0.6578987</td><td>0.8421875</td><td>0.1842887</td><td>0.008263959</td><td>22.3003</td></tr>\n",
       "</tbody>\n",
       "</table>\n"
      ],
      "text/latex": [
       "A tibble: 1 × 9\n",
       "\\begin{tabular}{lllllllll}\n",
       " n\\_no & n\\_yes & sd\\_no & sd\\_yes & mean\\_no & mean\\_yes & mean\\_diff & null\\_std\\_error & test\\_stat\\\\\n",
       " <int> & <int> & <dbl> & <dbl> & <dbl> & <dbl> & <dbl> & <dbl> & <dbl>\\\\\n",
       "\\hline\n",
       "\t 57 & 131 & 0.05919498 & 0.02988689 & 0.6578987 & 0.8421875 & 0.1842887 & 0.008263959 & 22.3003\\\\\n",
       "\\end{tabular}\n"
      ],
      "text/markdown": [
       "\n",
       "A tibble: 1 × 9\n",
       "\n",
       "| n_no &lt;int&gt; | n_yes &lt;int&gt; | sd_no &lt;dbl&gt; | sd_yes &lt;dbl&gt; | mean_no &lt;dbl&gt; | mean_yes &lt;dbl&gt; | mean_diff &lt;dbl&gt; | null_std_error &lt;dbl&gt; | test_stat &lt;dbl&gt; |\n",
       "|---|---|---|---|---|---|---|---|---|\n",
       "| 57 | 131 | 0.05919498 | 0.02988689 | 0.6578987 | 0.8421875 | 0.1842887 | 0.008263959 | 22.3003 |\n",
       "\n"
      ],
      "text/plain": [
       "  n_no n_yes sd_no      sd_yes     mean_no   mean_yes  mean_diff null_std_error\n",
       "1 57   131   0.05919498 0.02988689 0.6578987 0.8421875 0.1842887 0.008263959   \n",
       "  test_stat\n",
       "1 22.3003  "
      ]
     },
     "metadata": {},
     "output_type": "display_data"
    }
   ],
   "source": [
    "## calculate the test statistics\n",
    "sample_summary_winter <-\n",
    "    sample_summary_winter %>%\n",
    "    mutate(mean_diff = mean_yes - mean_no) %>%\n",
    "    mutate(null_std_error = sqrt(sd_yes^2/n_yes + sd_no^2/n_no)) %>%\n",
    "    mutate(test_stat = mean_diff/null_std_error)\n",
    "\n",
    "sample_summary_summer <-\n",
    "    sample_summary_summer %>%\n",
    "    mutate(mean_diff = mean_yes - mean_no) %>%\n",
    "    mutate(null_std_error = sqrt(sd_yes^2/n_yes + sd_no^2/n_no)) %>%\n",
    "    mutate(test_stat = mean_diff/null_std_error)\n",
    "\n",
    "sample_summary_winter\n",
    "sample_summary_summer"
   ]
  },
  {
   "cell_type": "markdown",
   "id": "3f63a4ed-122d-468a-8957-9a563b438056",
   "metadata": {},
   "source": [
    "We then calculate the p-value of the difference in means for winter and summer datasets and use mutate() to add it to the existing summary tibble."
   ]
  },
  {
   "cell_type": "code",
   "execution_count": 122,
   "id": "3e24cd61-4921-45e6-baee-2ffe0e3b3482",
   "metadata": {},
   "outputs": [
    {
     "data": {
      "text/html": [
       "<table class=\"dataframe\">\n",
       "<caption>A tibble: 1 × 10</caption>\n",
       "<thead>\n",
       "\t<tr><th scope=col>n_no</th><th scope=col>n_yes</th><th scope=col>sd_no</th><th scope=col>sd_yes</th><th scope=col>mean_no</th><th scope=col>mean_yes</th><th scope=col>mean_diff</th><th scope=col>null_std_error</th><th scope=col>test_stat</th><th scope=col>p_value</th></tr>\n",
       "\t<tr><th scope=col>&lt;int&gt;</th><th scope=col>&lt;int&gt;</th><th scope=col>&lt;dbl&gt;</th><th scope=col>&lt;dbl&gt;</th><th scope=col>&lt;dbl&gt;</th><th scope=col>&lt;dbl&gt;</th><th scope=col>&lt;dbl&gt;</th><th scope=col>&lt;dbl&gt;</th><th scope=col>&lt;dbl&gt;</th><th scope=col>&lt;dbl&gt;</th></tr>\n",
       "</thead>\n",
       "<tbody>\n",
       "\t<tr><td>61</td><td>120</td><td>0.1083181</td><td>0.04706721</td><td>0.7871169</td><td>0.9219079</td><td>0.134791</td><td>0.01451902</td><td>9.283751</td><td>5.263569e-17</td></tr>\n",
       "</tbody>\n",
       "</table>\n"
      ],
      "text/latex": [
       "A tibble: 1 × 10\n",
       "\\begin{tabular}{llllllllll}\n",
       " n\\_no & n\\_yes & sd\\_no & sd\\_yes & mean\\_no & mean\\_yes & mean\\_diff & null\\_std\\_error & test\\_stat & p\\_value\\\\\n",
       " <int> & <int> & <dbl> & <dbl> & <dbl> & <dbl> & <dbl> & <dbl> & <dbl> & <dbl>\\\\\n",
       "\\hline\n",
       "\t 61 & 120 & 0.1083181 & 0.04706721 & 0.7871169 & 0.9219079 & 0.134791 & 0.01451902 & 9.283751 & 5.263569e-17\\\\\n",
       "\\end{tabular}\n"
      ],
      "text/markdown": [
       "\n",
       "A tibble: 1 × 10\n",
       "\n",
       "| n_no &lt;int&gt; | n_yes &lt;int&gt; | sd_no &lt;dbl&gt; | sd_yes &lt;dbl&gt; | mean_no &lt;dbl&gt; | mean_yes &lt;dbl&gt; | mean_diff &lt;dbl&gt; | null_std_error &lt;dbl&gt; | test_stat &lt;dbl&gt; | p_value &lt;dbl&gt; |\n",
       "|---|---|---|---|---|---|---|---|---|---|\n",
       "| 61 | 120 | 0.1083181 | 0.04706721 | 0.7871169 | 0.9219079 | 0.134791 | 0.01451902 | 9.283751 | 5.263569e-17 |\n",
       "\n"
      ],
      "text/plain": [
       "  n_no n_yes sd_no     sd_yes     mean_no   mean_yes  mean_diff null_std_error\n",
       "1 61   120   0.1083181 0.04706721 0.7871169 0.9219079 0.134791  0.01451902    \n",
       "  test_stat p_value     \n",
       "1 9.283751  5.263569e-17"
      ]
     },
     "metadata": {},
     "output_type": "display_data"
    },
    {
     "data": {
      "text/html": [
       "<table class=\"dataframe\">\n",
       "<caption>A tibble: 1 × 10</caption>\n",
       "<thead>\n",
       "\t<tr><th scope=col>n_no</th><th scope=col>n_yes</th><th scope=col>sd_no</th><th scope=col>sd_yes</th><th scope=col>mean_no</th><th scope=col>mean_yes</th><th scope=col>mean_diff</th><th scope=col>null_std_error</th><th scope=col>test_stat</th><th scope=col>p_value</th></tr>\n",
       "\t<tr><th scope=col>&lt;int&gt;</th><th scope=col>&lt;int&gt;</th><th scope=col>&lt;dbl&gt;</th><th scope=col>&lt;dbl&gt;</th><th scope=col>&lt;dbl&gt;</th><th scope=col>&lt;dbl&gt;</th><th scope=col>&lt;dbl&gt;</th><th scope=col>&lt;dbl&gt;</th><th scope=col>&lt;dbl&gt;</th><th scope=col>&lt;dbl&gt;</th></tr>\n",
       "</thead>\n",
       "<tbody>\n",
       "\t<tr><td>57</td><td>131</td><td>0.05919498</td><td>0.02988689</td><td>0.6578987</td><td>0.8421875</td><td>0.1842887</td><td>0.008263959</td><td>22.3003</td><td>1.429994e-54</td></tr>\n",
       "</tbody>\n",
       "</table>\n"
      ],
      "text/latex": [
       "A tibble: 1 × 10\n",
       "\\begin{tabular}{llllllllll}\n",
       " n\\_no & n\\_yes & sd\\_no & sd\\_yes & mean\\_no & mean\\_yes & mean\\_diff & null\\_std\\_error & test\\_stat & p\\_value\\\\\n",
       " <int> & <int> & <dbl> & <dbl> & <dbl> & <dbl> & <dbl> & <dbl> & <dbl> & <dbl>\\\\\n",
       "\\hline\n",
       "\t 57 & 131 & 0.05919498 & 0.02988689 & 0.6578987 & 0.8421875 & 0.1842887 & 0.008263959 & 22.3003 & 1.429994e-54\\\\\n",
       "\\end{tabular}\n"
      ],
      "text/markdown": [
       "\n",
       "A tibble: 1 × 10\n",
       "\n",
       "| n_no &lt;int&gt; | n_yes &lt;int&gt; | sd_no &lt;dbl&gt; | sd_yes &lt;dbl&gt; | mean_no &lt;dbl&gt; | mean_yes &lt;dbl&gt; | mean_diff &lt;dbl&gt; | null_std_error &lt;dbl&gt; | test_stat &lt;dbl&gt; | p_value &lt;dbl&gt; |\n",
       "|---|---|---|---|---|---|---|---|---|---|\n",
       "| 57 | 131 | 0.05919498 | 0.02988689 | 0.6578987 | 0.8421875 | 0.1842887 | 0.008263959 | 22.3003 | 1.429994e-54 |\n",
       "\n"
      ],
      "text/plain": [
       "  n_no n_yes sd_no      sd_yes     mean_no   mean_yes  mean_diff null_std_error\n",
       "1 57   131   0.05919498 0.02988689 0.6578987 0.8421875 0.1842887 0.008263959   \n",
       "  test_stat p_value     \n",
       "1 22.3003   1.429994e-54"
      ]
     },
     "metadata": {},
     "output_type": "display_data"
    }
   ],
   "source": [
    "## calculate the p-value\n",
    "sample_summary_winter <- sample_summary_winter %>%\n",
    "    mutate(p_value = 2 * pt(test_stat, df = nrow(registered_prop_winter) - 1, lower.tail = FALSE))\n",
    "\n",
    "sample_summary_summer <- sample_summary_summer %>%\n",
    "    mutate(p_value = 2 * pt(test_stat, df = nrow(registered_prop_summer) - 1, lower.tail = FALSE))\n",
    "\n",
    "sample_summary_winter\n",
    "sample_summary_summer"
   ]
  },
  {
   "cell_type": "markdown",
   "id": "42ee789f-41ab-492c-b1c6-93b2ab1c774a",
   "metadata": {},
   "source": [
    "We then filter the summer and winter datasets into working and non-working groups for which we use in the t.test() function. We also use tidy() to keep everything organized."
   ]
  },
  {
   "cell_type": "code",
   "execution_count": 132,
   "id": "7a0fd032-55dc-4c0b-8b7e-a2a4e261d57b",
   "metadata": {},
   "outputs": [
    {
     "data": {
      "text/html": [
       "<table class=\"dataframe\">\n",
       "<caption>A tibble: 1 × 10</caption>\n",
       "<thead>\n",
       "\t<tr><th scope=col>estimate</th><th scope=col>estimate1</th><th scope=col>estimate2</th><th scope=col>statistic</th><th scope=col>p.value</th><th scope=col>parameter</th><th scope=col>conf.low</th><th scope=col>conf.high</th><th scope=col>method</th><th scope=col>alternative</th></tr>\n",
       "\t<tr><th scope=col>&lt;dbl&gt;</th><th scope=col>&lt;dbl&gt;</th><th scope=col>&lt;dbl&gt;</th><th scope=col>&lt;dbl&gt;</th><th scope=col>&lt;dbl&gt;</th><th scope=col>&lt;dbl&gt;</th><th scope=col>&lt;dbl&gt;</th><th scope=col>&lt;dbl&gt;</th><th scope=col>&lt;chr&gt;</th><th scope=col>&lt;chr&gt;</th></tr>\n",
       "</thead>\n",
       "<tbody>\n",
       "\t<tr><td>0.134791</td><td>0.9219079</td><td>0.7871169</td><td>9.283751</td><td>6.409996e-14</td><td>71.73721</td><td>0.105846</td><td>0.163736</td><td>Welch Two Sample t-test</td><td>two.sided</td></tr>\n",
       "</tbody>\n",
       "</table>\n"
      ],
      "text/latex": [
       "A tibble: 1 × 10\n",
       "\\begin{tabular}{llllllllll}\n",
       " estimate & estimate1 & estimate2 & statistic & p.value & parameter & conf.low & conf.high & method & alternative\\\\\n",
       " <dbl> & <dbl> & <dbl> & <dbl> & <dbl> & <dbl> & <dbl> & <dbl> & <chr> & <chr>\\\\\n",
       "\\hline\n",
       "\t 0.134791 & 0.9219079 & 0.7871169 & 9.283751 & 6.409996e-14 & 71.73721 & 0.105846 & 0.163736 & Welch Two Sample t-test & two.sided\\\\\n",
       "\\end{tabular}\n"
      ],
      "text/markdown": [
       "\n",
       "A tibble: 1 × 10\n",
       "\n",
       "| estimate &lt;dbl&gt; | estimate1 &lt;dbl&gt; | estimate2 &lt;dbl&gt; | statistic &lt;dbl&gt; | p.value &lt;dbl&gt; | parameter &lt;dbl&gt; | conf.low &lt;dbl&gt; | conf.high &lt;dbl&gt; | method &lt;chr&gt; | alternative &lt;chr&gt; |\n",
       "|---|---|---|---|---|---|---|---|---|---|\n",
       "| 0.134791 | 0.9219079 | 0.7871169 | 9.283751 | 6.409996e-14 | 71.73721 | 0.105846 | 0.163736 | Welch Two Sample t-test | two.sided |\n",
       "\n"
      ],
      "text/plain": [
       "  estimate estimate1 estimate2 statistic p.value      parameter conf.low\n",
       "1 0.134791 0.9219079 0.7871169 9.283751  6.409996e-14 71.73721  0.105846\n",
       "  conf.high method                  alternative\n",
       "1 0.163736  Welch Two Sample t-test two.sided  "
      ]
     },
     "metadata": {},
     "output_type": "display_data"
    },
    {
     "data": {
      "text/html": [
       "<table class=\"dataframe\">\n",
       "<caption>A tibble: 1 × 10</caption>\n",
       "<thead>\n",
       "\t<tr><th scope=col>estimate</th><th scope=col>estimate1</th><th scope=col>estimate2</th><th scope=col>statistic</th><th scope=col>p.value</th><th scope=col>parameter</th><th scope=col>conf.low</th><th scope=col>conf.high</th><th scope=col>method</th><th scope=col>alternative</th></tr>\n",
       "\t<tr><th scope=col>&lt;dbl&gt;</th><th scope=col>&lt;dbl&gt;</th><th scope=col>&lt;dbl&gt;</th><th scope=col>&lt;dbl&gt;</th><th scope=col>&lt;dbl&gt;</th><th scope=col>&lt;dbl&gt;</th><th scope=col>&lt;dbl&gt;</th><th scope=col>&lt;dbl&gt;</th><th scope=col>&lt;chr&gt;</th><th scope=col>&lt;chr&gt;</th></tr>\n",
       "</thead>\n",
       "<tbody>\n",
       "\t<tr><td>0.1842887</td><td>0.8421875</td><td>0.6578987</td><td>22.3003</td><td>3.439724e-33</td><td>68.74723</td><td>0.1678015</td><td>0.200776</td><td>Welch Two Sample t-test</td><td>two.sided</td></tr>\n",
       "</tbody>\n",
       "</table>\n"
      ],
      "text/latex": [
       "A tibble: 1 × 10\n",
       "\\begin{tabular}{llllllllll}\n",
       " estimate & estimate1 & estimate2 & statistic & p.value & parameter & conf.low & conf.high & method & alternative\\\\\n",
       " <dbl> & <dbl> & <dbl> & <dbl> & <dbl> & <dbl> & <dbl> & <dbl> & <chr> & <chr>\\\\\n",
       "\\hline\n",
       "\t 0.1842887 & 0.8421875 & 0.6578987 & 22.3003 & 3.439724e-33 & 68.74723 & 0.1678015 & 0.200776 & Welch Two Sample t-test & two.sided\\\\\n",
       "\\end{tabular}\n"
      ],
      "text/markdown": [
       "\n",
       "A tibble: 1 × 10\n",
       "\n",
       "| estimate &lt;dbl&gt; | estimate1 &lt;dbl&gt; | estimate2 &lt;dbl&gt; | statistic &lt;dbl&gt; | p.value &lt;dbl&gt; | parameter &lt;dbl&gt; | conf.low &lt;dbl&gt; | conf.high &lt;dbl&gt; | method &lt;chr&gt; | alternative &lt;chr&gt; |\n",
       "|---|---|---|---|---|---|---|---|---|---|\n",
       "| 0.1842887 | 0.8421875 | 0.6578987 | 22.3003 | 3.439724e-33 | 68.74723 | 0.1678015 | 0.200776 | Welch Two Sample t-test | two.sided |\n",
       "\n"
      ],
      "text/plain": [
       "  estimate  estimate1 estimate2 statistic p.value      parameter conf.low \n",
       "1 0.1842887 0.8421875 0.6578987 22.3003   3.439724e-33 68.74723  0.1678015\n",
       "  conf.high method                  alternative\n",
       "1 0.200776  Welch Two Sample t-test two.sided  "
      ]
     },
     "metadata": {},
     "output_type": "display_data"
    }
   ],
   "source": [
    "## perform the t-test\n",
    "working_winter <- filter(registered_prop_winter, workingday == \"yes\")\n",
    "nonworking_winter <- filter(registered_prop_winter, workingday == \"no\")\n",
    "registered_t_test_winter <- tidy(t.test(x = working_winter$prop, y = nonworking_winter$prop, alternative = \"two.sided\"))\n",
    "registered_t_test_winter\n",
    "\n",
    "working_summer <- filter(registered_prop_summer, workingday == \"yes\")\n",
    "nonworking_summer <- filter(registered_prop_summer, workingday == \"no\")\n",
    "registered_t_test_summer <- tidy(t.test(x = working_summer$prop, y = nonworking_summer$prop, alternative = \"two.sided\"))\n",
    "registered_t_test_summer"
   ]
  },
  {
   "cell_type": "markdown",
   "id": "50dd04fa-d129-4057-a8ff-1e122c33b502",
   "metadata": {},
   "source": [
    "Using the tibbles above, we see that at every conventional significance level (0.05, 0.01, 0.001) the difference in means remains statistically significant."
   ]
  },
  {
   "cell_type": "markdown",
   "id": "85a1c6c8-7656-4838-b37f-ab17c36fb93c",
   "metadata": {
    "tags": []
   },
   "source": [
    "### Bootstrapping"
   ]
  },
  {
   "cell_type": "markdown",
   "id": "08e8d749-38b2-42ca-8ac7-54116e0c3630",
   "metadata": {},
   "source": [
    "In our final approach, we use a bootstrap distribution to find the sample mean difference and its confidence interval."
   ]
  },
  {
   "cell_type": "code",
   "execution_count": 144,
   "id": "29595359-efc6-4d60-a513-e4a5caabedd6",
   "metadata": {},
   "outputs": [
    {
     "data": {
      "text/html": [
       "<table class=\"dataframe\">\n",
       "<caption>A tibble: 6 × 2</caption>\n",
       "<thead>\n",
       "\t<tr><th scope=col>replicate</th><th scope=col>stat</th></tr>\n",
       "\t<tr><th scope=col>&lt;int&gt;</th><th scope=col>&lt;dbl&gt;</th></tr>\n",
       "</thead>\n",
       "<tbody>\n",
       "\t<tr><td>1</td><td>0.8914715</td></tr>\n",
       "\t<tr><td>2</td><td>0.8783267</td></tr>\n",
       "\t<tr><td>3</td><td>0.8807860</td></tr>\n",
       "\t<tr><td>4</td><td>0.8686965</td></tr>\n",
       "\t<tr><td>5</td><td>0.8781969</td></tr>\n",
       "\t<tr><td>6</td><td>0.8808400</td></tr>\n",
       "</tbody>\n",
       "</table>\n"
      ],
      "text/latex": [
       "A tibble: 6 × 2\n",
       "\\begin{tabular}{ll}\n",
       " replicate & stat\\\\\n",
       " <int> & <dbl>\\\\\n",
       "\\hline\n",
       "\t 1 & 0.8914715\\\\\n",
       "\t 2 & 0.8783267\\\\\n",
       "\t 3 & 0.8807860\\\\\n",
       "\t 4 & 0.8686965\\\\\n",
       "\t 5 & 0.8781969\\\\\n",
       "\t 6 & 0.8808400\\\\\n",
       "\\end{tabular}\n"
      ],
      "text/markdown": [
       "\n",
       "A tibble: 6 × 2\n",
       "\n",
       "| replicate &lt;int&gt; | stat &lt;dbl&gt; |\n",
       "|---|---|\n",
       "| 1 | 0.8914715 |\n",
       "| 2 | 0.8783267 |\n",
       "| 3 | 0.8807860 |\n",
       "| 4 | 0.8686965 |\n",
       "| 5 | 0.8781969 |\n",
       "| 6 | 0.8808400 |\n",
       "\n"
      ],
      "text/plain": [
       "  replicate stat     \n",
       "1 1         0.8914715\n",
       "2 2         0.8783267\n",
       "3 3         0.8807860\n",
       "4 4         0.8686965\n",
       "5 5         0.8781969\n",
       "6 6         0.8808400"
      ]
     },
     "metadata": {},
     "output_type": "display_data"
    },
    {
     "data": {
      "text/html": [
       "<table class=\"dataframe\">\n",
       "<caption>A tibble: 6 × 2</caption>\n",
       "<thead>\n",
       "\t<tr><th scope=col>replicate</th><th scope=col>stat</th></tr>\n",
       "\t<tr><th scope=col>&lt;int&gt;</th><th scope=col>&lt;dbl&gt;</th></tr>\n",
       "</thead>\n",
       "<tbody>\n",
       "\t<tr><td>1</td><td>0.7900478</td></tr>\n",
       "\t<tr><td>2</td><td>0.7903428</td></tr>\n",
       "\t<tr><td>3</td><td>0.7742790</td></tr>\n",
       "\t<tr><td>4</td><td>0.7758747</td></tr>\n",
       "\t<tr><td>5</td><td>0.7933497</td></tr>\n",
       "\t<tr><td>6</td><td>0.7687650</td></tr>\n",
       "</tbody>\n",
       "</table>\n"
      ],
      "text/latex": [
       "A tibble: 6 × 2\n",
       "\\begin{tabular}{ll}\n",
       " replicate & stat\\\\\n",
       " <int> & <dbl>\\\\\n",
       "\\hline\n",
       "\t 1 & 0.7900478\\\\\n",
       "\t 2 & 0.7903428\\\\\n",
       "\t 3 & 0.7742790\\\\\n",
       "\t 4 & 0.7758747\\\\\n",
       "\t 5 & 0.7933497\\\\\n",
       "\t 6 & 0.7687650\\\\\n",
       "\\end{tabular}\n"
      ],
      "text/markdown": [
       "\n",
       "A tibble: 6 × 2\n",
       "\n",
       "| replicate &lt;int&gt; | stat &lt;dbl&gt; |\n",
       "|---|---|\n",
       "| 1 | 0.7900478 |\n",
       "| 2 | 0.7903428 |\n",
       "| 3 | 0.7742790 |\n",
       "| 4 | 0.7758747 |\n",
       "| 5 | 0.7933497 |\n",
       "| 6 | 0.7687650 |\n",
       "\n"
      ],
      "text/plain": [
       "  replicate stat     \n",
       "1 1         0.7900478\n",
       "2 2         0.7903428\n",
       "3 3         0.7742790\n",
       "4 4         0.7758747\n",
       "5 5         0.7933497\n",
       "6 6         0.7687650"
      ]
     },
     "metadata": {},
     "output_type": "display_data"
    }
   ],
   "source": [
    "## Creating a bootstrap distribution for the winter dataset\n",
    "resampled_winter <-\n",
    "    registered_prop_winter %>%\n",
    "    specify(response = prop) %>%\n",
    "    generate(reps = 1000, type = \"bootstrap\") %>%\n",
    "    calculate(stat = \"mean\")\n",
    "head(resampled_winter)\n",
    "\n",
    "## Creating a bootstrap distribution for the summer dataset\n",
    "resampled_summer <-\n",
    "    registered_prop_summer %>%\n",
    "    specify(response = prop) %>%\n",
    "    generate(reps = 1000, type = \"bootstrap\") %>%\n",
    "    calculate(stat = \"mean\")\n",
    "head(resampled_summer)"
   ]
  },
  {
   "cell_type": "markdown",
   "id": "24fab684-c2c4-41f6-b07f-b74d78502655",
   "metadata": {},
   "source": [
    "With both distributions now available, we use get_confidence_interval() and specify our desired confidence level (95%) to find the distributions confidence interval."
   ]
  },
  {
   "cell_type": "code",
   "execution_count": 151,
   "id": "5719b04a-10ea-47d9-bc18-55c1f33a021b",
   "metadata": {},
   "outputs": [
    {
     "data": {
      "text/html": [
       "<table class=\"dataframe\">\n",
       "<caption>A tibble: 1 × 2</caption>\n",
       "<thead>\n",
       "\t<tr><th scope=col>lower_ci</th><th scope=col>upper_ci</th></tr>\n",
       "\t<tr><th scope=col>&lt;dbl&gt;</th><th scope=col>&lt;dbl&gt;</th></tr>\n",
       "</thead>\n",
       "<tbody>\n",
       "\t<tr><td>0.8628526</td><td>0.8901946</td></tr>\n",
       "</tbody>\n",
       "</table>\n"
      ],
      "text/latex": [
       "A tibble: 1 × 2\n",
       "\\begin{tabular}{ll}\n",
       " lower\\_ci & upper\\_ci\\\\\n",
       " <dbl> & <dbl>\\\\\n",
       "\\hline\n",
       "\t 0.8628526 & 0.8901946\\\\\n",
       "\\end{tabular}\n"
      ],
      "text/markdown": [
       "\n",
       "A tibble: 1 × 2\n",
       "\n",
       "| lower_ci &lt;dbl&gt; | upper_ci &lt;dbl&gt; |\n",
       "|---|---|\n",
       "| 0.8628526 | 0.8901946 |\n",
       "\n"
      ],
      "text/plain": [
       "  lower_ci  upper_ci \n",
       "1 0.8628526 0.8901946"
      ]
     },
     "metadata": {},
     "output_type": "display_data"
    },
    {
     "data": {
      "text/html": [
       "<table class=\"dataframe\">\n",
       "<caption>A tibble: 1 × 2</caption>\n",
       "<thead>\n",
       "\t<tr><th scope=col>lower_ci</th><th scope=col>upper_ci</th></tr>\n",
       "\t<tr><th scope=col>&lt;dbl&gt;</th><th scope=col>&lt;dbl&gt;</th></tr>\n",
       "</thead>\n",
       "<tbody>\n",
       "\t<tr><td>0.7732154</td><td>0.7989117</td></tr>\n",
       "</tbody>\n",
       "</table>\n"
      ],
      "text/latex": [
       "A tibble: 1 × 2\n",
       "\\begin{tabular}{ll}\n",
       " lower\\_ci & upper\\_ci\\\\\n",
       " <dbl> & <dbl>\\\\\n",
       "\\hline\n",
       "\t 0.7732154 & 0.7989117\\\\\n",
       "\\end{tabular}\n"
      ],
      "text/markdown": [
       "\n",
       "A tibble: 1 × 2\n",
       "\n",
       "| lower_ci &lt;dbl&gt; | upper_ci &lt;dbl&gt; |\n",
       "|---|---|\n",
       "| 0.7732154 | 0.7989117 |\n",
       "\n"
      ],
      "text/plain": [
       "  lower_ci  upper_ci \n",
       "1 0.7732154 0.7989117"
      ]
     },
     "metadata": {},
     "output_type": "display_data"
    }
   ],
   "source": [
    "## Calculating the 95% confidence interval for both winter and summer distributions\n",
    "percentile_ci_winter <- get_confidence_interval(resampled_winter, level = 0.95, type =\"percentile\")\n",
    "percentile_ci_summer <- get_confidence_interval(resampled_summer, level = 0.95, type =\"percentile\")\n",
    "\n",
    "percentile_ci_winter\n",
    "percentile_ci_summer"
   ]
  },
  {
   "cell_type": "code",
   "execution_count": 159,
   "id": "51016693-3669-4288-9725-556f8f313b26",
   "metadata": {},
   "outputs": [
    {
     "data": {
      "image/png": "[encoded data removed]",
      "text/plain": [
       "plot without title"
      ]
     },
     "metadata": {
      "image/png": {
       "height": 480,
       "width": 1200
      }
     },
     "output_type": "display_data"
    },
    {
     "data": {
      "image/png": "[encoded data removed]",
      "text/plain": [
       "plot without title"
      ]
     },
     "metadata": {
      "image/png": {
       "height": 480,
       "width": 1200
      }
     },
     "output_type": "display_data"
    }
   ],
   "source": [
    "## Visualizing the winter distributions with its confidence intervals overlain\n",
    "winter_ci_visualized <- visualize(resampled_winter) +    \n",
    "    shade_confidence_interval(endpoints = percentile_ci_winter) + \n",
    "    ggtitle(\"Fig. 4: Winter Bootstrap Distribution with 95% Confidence Interval\") + \n",
    "    theme(plot.title = element_text(size = 20), axis.title=element_text(size=15), text = element_text(size=15))\n",
    "\n",
    "## Visualizing the summer distributions with its confidence intervals overlain\n",
    "summer_ci_visualized <- visualize(resampled_summer) +    \n",
    "    shade_confidence_interval(endpoints = percentile_ci_summer) + \n",
    "    ggtitle(\"Fig. 5: Summer Bootstrap Distribution with 95% Confidence Interval\") +\n",
    "    theme(plot.title = element_text(size = 20), axis.title=element_text(size=15), text = element_text(size=15))\n",
    "\n",
    "winter_ci_visualized\n",
    "summer_ci_visualized"
   ]
  },
  {
   "cell_type": "markdown",
   "id": "368b38c5-c1a7-4765-af75-3c1d4029f2da",
   "metadata": {},
   "source": [
    "With the confidence intervals better understood through their visualization over the distribution, we can easily interpret them with conclusive statements. These are that; \n",
    "\n",
    "We are 95% confident that the true value of the mean proportions of registered users during the winter is between 0.8618008 and 0.8895404;\n",
    "\n",
    "We are 95% confident that the true value of the mean proportions of registered users during the summer is between 0.7725455 and 0.7987492."
   ]
  },
  {
   "cell_type": "markdown",
   "id": "40f828eb-c28e-478b-8d20-e0201a4cc3ff",
   "metadata": {},
   "source": [
    "## Discussion"
   ]
  },
  {
   "cell_type": "markdown",
   "id": "aa0be59b-6a24-4542-979e-d1d88d24deee",
   "metadata": {},
   "source": [
    "For our analysis, we find the following hypotheses to benchmark our analysis\n",
    "\n",
    "H<sub>0</sub>: the proportion of registered riders during workdays is equivalent to non-working days across both summer and winter\n",
    "H<sub>A</sub> : the proportion of registered riders during the workdays is not equivalent to non-working days during either summer or winter\n",
    "\n",
    "DISCUSS FINDINGS HERE --> Contextualize data\n",
    "\n",
    "- Summarize what you found, and the implications/impact of your findings.\n",
    "- If relevant, discuss whether your results were what you expected to find.\n",
    "- Discuss future questions/research this study could lead to.\n",
    "\n",
    "Bootstrapping is simulation-based inference. It is easier to understand than the asymptotic method. Bootstrapping is useful when there is no theory that could describe the distribution of the data. However, if the sample is not a representative one, bootstrapping can give a very off result since it does not correct the bias. On the other hand, asymptotic method tells us what the sampling distribution should look like, but there are a few assumptions to be meet. Both bootstrapping and asymptotic method work for the data set we explored in our project. As mentioned above, the assumptions for using the t-distribution are met here. Bootstrapping and asymptotic method generally produce similar results, and our study is no different. Our bootstrapping approach found a p-value of 0 for both summer and winter proportions and the asymptotic method found practically-zero p-values. Both p-values prove statistical significance at any conventional level of significance.\n",
    "\n",
    "(TO BE COMPLETED)\n",
    "\n",
    "The sample size used for our plots and estimates was large enough to produce close to accurate results. The use of bootstrap sampling has made it easier to derive the estimates for the proportions without having to use the entire sample or having the need to collect more data. Even though the results produced are good estimates they are not strong enough to prove or provide anything substantial. Calculating the 90% confidence interval for the average proportions of registered users will provide a range within which there would be a 90% chance of having the true proportions. We expect to find the two proportions are significantly different from each other. We expect to disprove the null hypothesis and accept the alternate hypothesis.\n",
    "\n",
    "#### Expectation\n",
    "\n",
    "We expect to find estimates for the proportion of each weather condition in spring and winter and their respective 90% confidence intervals. Conduct hypothesis tests to find out if there are significant differences between the proportions of weather conditions for each season. We then further develop the trust of our report by offering measures of statistical significance, P-values.\n",
    "\n",
    "#### Impact\n",
    "\n",
    "This analysis could prove beneficial for marketing departments to better define target markets and allocate marketing efforts, or to better inform the placement of new automated bike racks to optimize for registered users.\n",
    "\n",
    "Future question that might come up due to our study include: \n",
    "1. Are there any other factors that draw the interest of the registered user?   \n",
    "2. Does weather affect the consumer behaviour of the registered user?\n",
    "3. What factors draw the interest of casual users?"
   ]
  },
  {
   "cell_type": "markdown",
   "id": "b6c3ce8b-79a4-493e-b505-02b994d6ccc2",
   "metadata": {
    "tags": []
   },
   "source": [
    "## References"
   ]
  },
  {
   "cell_type": "markdown",
   "id": "0d42c1bc-3a6c-459a-be06-8d20b948c2e0",
   "metadata": {},
   "source": [
    "Fanaee-T, H., &amp; Gama, J. (2013). Event labeling combining ensemble detectors and\n",
    "    background knowledge. Progress in Artificial Intelligence, 2(2-3), 113–127.\n",
    "    https://doi.org/10.1007/s13748-013-0040-3\n",
    "\n",
    "Hosford, K., Fuller, D., Lear, S. A., Teschke, K., Gauvin, L., Brauer, M., &amp; Winters, M.\n",
    "    (2018). Evaluation of the impact of a public bicycle share program on population\n",
    "    bicycling in Vancouver, BC. Preventive Medicine Reports, 12, 176–181. https://doi.org/10.1016/j.pmedr.2018.09.014 \n",
    "\n",
    "Kim, K. (2018). Investigation on the effects of weather and calendar events on bike-sharing\n",
    "    according to the trip patterns of bike rentals of stations. Journal of Transport Geography,\n",
    "    66, 309–320. https://doi.org/10.1016/j.jtrangeo.2018.01.001 "
   ]
  }
 ],
 "metadata": {
  "kernelspec": {
   "display_name": "R",
   "language": "R",
   "name": "ir"
  },
  "language_info": {
   "codemirror_mode": "r",
   "file_extension": ".r",
   "mimetype": "text/x-r-source",
   "name": "R",
   "pygments_lexer": "r",
   "version": "4.0.5"
  }
 },
 "nbformat": 4,
 "nbformat_minor": 5
}
